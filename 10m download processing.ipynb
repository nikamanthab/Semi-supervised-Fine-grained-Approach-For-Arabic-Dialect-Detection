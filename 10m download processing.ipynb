{
 "cells": [
  {
   "cell_type": "code",
   "execution_count": 2,
   "metadata": {},
   "outputs": [],
   "source": [
    "import pandas as pd"
   ]
  },
  {
   "cell_type": "code",
   "execution_count": 2,
   "metadata": {},
   "outputs": [],
   "source": [
    "base = pd.read_csv('../NADI-2020_release_1.0/NADI_release/unlabeled_10M.tsv',sep='\\t')"
   ]
  },
  {
   "cell_type": "code",
   "execution_count": 3,
   "metadata": {},
   "outputs": [],
   "source": [
    "collected1 = pd.read_csv('../tsv/labeled_10M-part1.tsv',sep='\\t')"
   ]
  },
  {
   "cell_type": "code",
   "execution_count": 4,
   "metadata": {
    "scrolled": false
   },
   "outputs": [
    {
     "data": {
      "text/html": [
       "<div>\n",
       "<style scoped>\n",
       "    .dataframe tbody tr th:only-of-type {\n",
       "        vertical-align: middle;\n",
       "    }\n",
       "\n",
       "    .dataframe tbody tr th {\n",
       "        vertical-align: top;\n",
       "    }\n",
       "\n",
       "    .dataframe thead th {\n",
       "        text-align: right;\n",
       "    }\n",
       "</style>\n",
       "<table border=\"1\" class=\"dataframe\">\n",
       "  <thead>\n",
       "    <tr style=\"text-align: right;\">\n",
       "      <th></th>\n",
       "      <th>#1 tweet_ID</th>\n",
       "      <th>#2 tweet_content</th>\n",
       "    </tr>\n",
       "  </thead>\n",
       "  <tbody>\n",
       "    <tr>\n",
       "      <th>0</th>\n",
       "      <td>1041788841</td>\n",
       "      <td>من الذى سيحدد قيمة الأصول التى ستتحول ملكيتها ...</td>\n",
       "    </tr>\n",
       "    <tr>\n",
       "      <th>1</th>\n",
       "      <td>2276732618</td>\n",
       "      <td>هنا طلع عالم اخر مليء باشياء حلوه معكم على طول</td>\n",
       "    </tr>\n",
       "    <tr>\n",
       "      <th>2</th>\n",
       "      <td>2419368434</td>\n",
       "      <td>السعودية تعاني من أزمة هوية وأزمة إنجاز , \" وك...</td>\n",
       "    </tr>\n",
       "    <tr>\n",
       "      <th>3</th>\n",
       "      <td>2440569453</td>\n",
       "      <td>أصبح سقوط المملكة قاب قوسين قصيدة نبطية رائعة ...</td>\n",
       "    </tr>\n",
       "    <tr>\n",
       "      <th>4</th>\n",
       "      <td>2504036777</td>\n",
       "      <td>واستبد الامراء والاميرات على الشعب . وعاثت اسر...</td>\n",
       "    </tr>\n",
       "    <tr>\n",
       "      <th>...</th>\n",
       "      <td>...</td>\n",
       "      <td>...</td>\n",
       "    </tr>\n",
       "    <tr>\n",
       "      <th>441095</th>\n",
       "      <td>574686336491257856</td>\n",
       "      <td>فيه ناس الكذب عندهم مثل الاخبار مافيه حلقة اخي...</td>\n",
       "    </tr>\n",
       "    <tr>\n",
       "      <th>441096</th>\n",
       "      <td>574686631543848960</td>\n",
       "      <td>RT @MmaQarat: فقط من لا يفعلون شيئاً لا يرتكبو...</td>\n",
       "    </tr>\n",
       "    <tr>\n",
       "      <th>441097</th>\n",
       "      <td>574687339278135296</td>\n",
       "      <td>فيديو : رصاصة اسفلت تُصرع مواطناً دهساً ! ـ ht...</td>\n",
       "    </tr>\n",
       "    <tr>\n",
       "      <th>441098</th>\n",
       "      <td>574687429396824064</td>\n",
       "      <td>. عظمة عقلك تخلق لك {الحساد} ... وعظمة قلبك تخ...</td>\n",
       "    </tr>\n",
       "    <tr>\n",
       "      <th>441099</th>\n",
       "      <td>574687474531725312</td>\n",
       "      <td>RT @ahmedalfutaisi: نستقبل غداً بمطار مسقط الط...</td>\n",
       "    </tr>\n",
       "  </tbody>\n",
       "</table>\n",
       "<p>441100 rows × 2 columns</p>\n",
       "</div>"
      ],
      "text/plain": [
       "               #1 tweet_ID                                   #2 tweet_content\n",
       "0               1041788841  من الذى سيحدد قيمة الأصول التى ستتحول ملكيتها ...\n",
       "1               2276732618     هنا طلع عالم اخر مليء باشياء حلوه معكم على طول\n",
       "2               2419368434  السعودية تعاني من أزمة هوية وأزمة إنجاز , \" وك...\n",
       "3               2440569453  أصبح سقوط المملكة قاب قوسين قصيدة نبطية رائعة ...\n",
       "4               2504036777  واستبد الامراء والاميرات على الشعب . وعاثت اسر...\n",
       "...                    ...                                                ...\n",
       "441095  574686336491257856  فيه ناس الكذب عندهم مثل الاخبار مافيه حلقة اخي...\n",
       "441096  574686631543848960  RT @MmaQarat: فقط من لا يفعلون شيئاً لا يرتكبو...\n",
       "441097  574687339278135296  فيديو : رصاصة اسفلت تُصرع مواطناً دهساً ! ـ ht...\n",
       "441098  574687429396824064  . عظمة عقلك تخلق لك {الحساد} ... وعظمة قلبك تخ...\n",
       "441099  574687474531725312  RT @ahmedalfutaisi: نستقبل غداً بمطار مسقط الط...\n",
       "\n",
       "[441100 rows x 2 columns]"
      ]
     },
     "execution_count": 4,
     "metadata": {},
     "output_type": "execute_result"
    }
   ],
   "source": [
    "collected1"
   ]
  },
  {
   "cell_type": "code",
   "execution_count": 9,
   "metadata": {},
   "outputs": [],
   "source": [
    "new_unlabelled = base[441100:]"
   ]
  },
  {
   "cell_type": "code",
   "execution_count": 11,
   "metadata": {},
   "outputs": [],
   "source": [
    "new_unlabelled.to_csv('../tsv/new_unlabelled.tsv',sep='\\t',index=False)"
   ]
  },
  {
   "cell_type": "code",
   "execution_count": null,
   "metadata": {},
   "outputs": [],
   "source": []
  },
  {
   "cell_type": "code",
   "execution_count": 12,
   "metadata": {},
   "outputs": [],
   "source": [
    "i = 0\n",
    "id_arrays = []\n",
    "while(i<len(new_unlabelled)):\n",
    "    id_arrays.append(new_unlabelled['#1 tweet_ID'][i:i+100000])\n",
    "    i = i+100000"
   ]
  },
  {
   "cell_type": "code",
   "execution_count": 14,
   "metadata": {},
   "outputs": [],
   "source": [
    "for fno in range(len(id_arrays)):\n",
    "    df = pd.DataFrame(data={\"#1 tweet_ID\":id_arrays[fno]})\n",
    "    df.to_csv('../tsv/segmented/unlabeled/unlabeled-seg-'+str(fno)+'.tsv',sep='\\t',index=False)"
   ]
  },
  {
   "cell_type": "code",
   "execution_count": null,
   "metadata": {},
   "outputs": [],
   "source": []
  },
  {
   "cell_type": "code",
   "execution_count": 15,
   "metadata": {},
   "outputs": [],
   "source": [
    "#concat"
   ]
  },
  {
   "cell_type": "code",
   "execution_count": 3,
   "metadata": {},
   "outputs": [],
   "source": [
    "part1 = pd.read_csv('../tsv/gold/labeled_10M-part1.tsv',sep='\\t')"
   ]
  },
  {
   "cell_type": "code",
   "execution_count": 4,
   "metadata": {
    "scrolled": true
   },
   "outputs": [],
   "source": [
    "import os\n",
    "con_df = part1\n",
    "for tsv in os.listdir('../tsv/segmented/labeled/'):\n",
    "    df = pd.read_csv('../tsv/segmented/labeled/'+tsv,sep='\\t')\n",
    "    con_df = pd.concat([con_df, df])"
   ]
  },
  {
   "cell_type": "code",
   "execution_count": 6,
   "metadata": {},
   "outputs": [
    {
     "data": {
      "text/plain": [
       "10000000"
      ]
     },
     "execution_count": 6,
     "metadata": {},
     "output_type": "execute_result"
    }
   ],
   "source": [
    "len(con_df)"
   ]
  },
  {
   "cell_type": "code",
   "execution_count": 7,
   "metadata": {},
   "outputs": [],
   "source": [
    "con_df.to_csv('../tsv/10m_collected.tsv',sep='\\t')"
   ]
  },
  {
   "cell_type": "code",
   "execution_count": null,
   "metadata": {},
   "outputs": [],
   "source": []
  },
  {
   "cell_type": "code",
   "execution_count": 38,
   "metadata": {
    "scrolled": true
   },
   "outputs": [
    {
     "ename": "KeyboardInterrupt",
     "evalue": "",
     "output_type": "error",
     "traceback": [
      "\u001b[0;31m---------------------------------------------------------------------------\u001b[0m",
      "\u001b[0;31mKeyboardInterrupt\u001b[0m                         Traceback (most recent call last)",
      "\u001b[0;32m<ipython-input-38-28ad354cc128>\u001b[0m in \u001b[0;36m<module>\u001b[0;34m\u001b[0m\n\u001b[1;32m      1\u001b[0m \u001b[0mout_ids\u001b[0m \u001b[0;34m=\u001b[0m \u001b[0;34m[\u001b[0m\u001b[0;34m]\u001b[0m\u001b[0;34m\u001b[0m\u001b[0;34m\u001b[0m\u001b[0m\n\u001b[1;32m      2\u001b[0m \u001b[0;32mfor\u001b[0m \u001b[0mi\u001b[0m \u001b[0;32min\u001b[0m \u001b[0mlist\u001b[0m\u001b[0;34m(\u001b[0m\u001b[0mbase\u001b[0m\u001b[0;34m[\u001b[0m\u001b[0;34m'#1 tweet_ID'\u001b[0m\u001b[0;34m]\u001b[0m\u001b[0;34m)\u001b[0m\u001b[0;34m:\u001b[0m\u001b[0;34m\u001b[0m\u001b[0;34m\u001b[0m\u001b[0m\n\u001b[0;32m----> 3\u001b[0;31m     \u001b[0;32mif\u001b[0m \u001b[0mi\u001b[0m \u001b[0;32mnot\u001b[0m \u001b[0;32min\u001b[0m \u001b[0mlist\u001b[0m\u001b[0;34m(\u001b[0m\u001b[0mcon_df\u001b[0m\u001b[0;34m[\u001b[0m\u001b[0;34m'#1 tweet_ID'\u001b[0m\u001b[0;34m]\u001b[0m\u001b[0;34m)\u001b[0m\u001b[0;34m:\u001b[0m\u001b[0;34m\u001b[0m\u001b[0;34m\u001b[0m\u001b[0m\n\u001b[0m\u001b[1;32m      4\u001b[0m         \u001b[0mout_ids\u001b[0m\u001b[0;34m.\u001b[0m\u001b[0mappend\u001b[0m\u001b[0;34m(\u001b[0m\u001b[0mi\u001b[0m\u001b[0;34m)\u001b[0m\u001b[0;34m\u001b[0m\u001b[0;34m\u001b[0m\u001b[0m\n",
      "\u001b[0;31mKeyboardInterrupt\u001b[0m: "
     ]
    }
   ],
   "source": [
    "out_ids = []\n",
    "for i in list(base['#1 tweet_ID']):\n",
    "    if i not in list(con_df['#1 tweet_ID']):\n",
    "        out_ids.append(i)"
   ]
  },
  {
   "cell_type": "code",
   "execution_count": 42,
   "metadata": {},
   "outputs": [],
   "source": [
    "df = pd.read_csv('../tsv/segmented/labeled/labeled-seg-90.tsv',sep='\\t')"
   ]
  },
  {
   "cell_type": "code",
   "execution_count": 44,
   "metadata": {},
   "outputs": [
    {
     "data": {
      "text/html": [
       "<div>\n",
       "<style scoped>\n",
       "    .dataframe tbody tr th:only-of-type {\n",
       "        vertical-align: middle;\n",
       "    }\n",
       "\n",
       "    .dataframe tbody tr th {\n",
       "        vertical-align: top;\n",
       "    }\n",
       "\n",
       "    .dataframe thead th {\n",
       "        text-align: right;\n",
       "    }\n",
       "</style>\n",
       "<table border=\"1\" class=\"dataframe\">\n",
       "  <thead>\n",
       "    <tr style=\"text-align: right;\">\n",
       "      <th></th>\n",
       "      <th>#1 tweet_ID</th>\n",
       "      <th>#2 tweet_content</th>\n",
       "    </tr>\n",
       "  </thead>\n",
       "  <tbody>\n",
       "    <tr>\n",
       "      <th>0</th>\n",
       "      <td>462285949716934656</td>\n",
       "      <td>@jamaleldeen1 ما استسلموا الا لانهم ما استطاعو...</td>\n",
       "    </tr>\n",
       "    <tr>\n",
       "      <th>1</th>\n",
       "      <td>462288196328767488</td>\n",
       "      <td>RT @liliandaoud: لكل كاتب/بة شباب حلمهم ان مصر...</td>\n",
       "    </tr>\n",
       "    <tr>\n",
       "      <th>2</th>\n",
       "      <td>462289570034642944</td>\n",
       "      <td>RT @F_grooup: للمـتواجدين الان لـزيادة عــدد م...</td>\n",
       "    </tr>\n",
       "    <tr>\n",
       "      <th>3</th>\n",
       "      <td>462290521873190912</td>\n",
       "      <td>RT @wwww___w1: 🌴اربح نخلة في الجنة🌴 قل 💕سبحان ...</td>\n",
       "    </tr>\n",
       "    <tr>\n",
       "      <th>4</th>\n",
       "      <td>462291141757784064</td>\n",
       "      <td>#الشعب_السعودي_الشقيق  انت أغلا الناس وكل يوم ...</td>\n",
       "    </tr>\n",
       "    <tr>\n",
       "      <th>...</th>\n",
       "      <td>...</td>\n",
       "      <td>...</td>\n",
       "    </tr>\n",
       "    <tr>\n",
       "      <th>99995</th>\n",
       "      <td>535291806947487744</td>\n",
       "      <td>اللهم أكفنا شر حاسدٍ إذا حسد http://t.co/rHMdp...</td>\n",
       "    </tr>\n",
       "    <tr>\n",
       "      <th>99996</th>\n",
       "      <td>535294097268166656</td>\n",
       "      <td>RT @ElGeeka: يعنى ايه مهندس يعنى يوم اجازتك تا...</td>\n",
       "    </tr>\n",
       "    <tr>\n",
       "      <th>99997</th>\n",
       "      <td>535295215578267648</td>\n",
       "      <td>&lt;UNAVAILABLE&gt;</td>\n",
       "    </tr>\n",
       "    <tr>\n",
       "      <th>99998</th>\n",
       "      <td>535297006508703745</td>\n",
       "      <td>(لا يسأم الإنسان من دعاء الخير وإن مسه الشر في...</td>\n",
       "    </tr>\n",
       "    <tr>\n",
       "      <th>99999</th>\n",
       "      <td>535300081226760192</td>\n",
       "      <td>المؤمن ضعيف بنفسه قوي بإخوانه  فيارب نسألك صحب...</td>\n",
       "    </tr>\n",
       "  </tbody>\n",
       "</table>\n",
       "<p>100000 rows × 2 columns</p>\n",
       "</div>"
      ],
      "text/plain": [
       "              #1 tweet_ID                                   #2 tweet_content\n",
       "0      462285949716934656  @jamaleldeen1 ما استسلموا الا لانهم ما استطاعو...\n",
       "1      462288196328767488  RT @liliandaoud: لكل كاتب/بة شباب حلمهم ان مصر...\n",
       "2      462289570034642944  RT @F_grooup: للمـتواجدين الان لـزيادة عــدد م...\n",
       "3      462290521873190912  RT @wwww___w1: 🌴اربح نخلة في الجنة🌴 قل 💕سبحان ...\n",
       "4      462291141757784064  #الشعب_السعودي_الشقيق  انت أغلا الناس وكل يوم ...\n",
       "...                   ...                                                ...\n",
       "99995  535291806947487744  اللهم أكفنا شر حاسدٍ إذا حسد http://t.co/rHMdp...\n",
       "99996  535294097268166656  RT @ElGeeka: يعنى ايه مهندس يعنى يوم اجازتك تا...\n",
       "99997  535295215578267648                                      <UNAVAILABLE>\n",
       "99998  535297006508703745  (لا يسأم الإنسان من دعاء الخير وإن مسه الشر في...\n",
       "99999  535300081226760192  المؤمن ضعيف بنفسه قوي بإخوانه  فيارب نسألك صحب...\n",
       "\n",
       "[100000 rows x 2 columns]"
      ]
     },
     "execution_count": 44,
     "metadata": {},
     "output_type": "execute_result"
    }
   ],
   "source": [
    "df"
   ]
  },
  {
   "cell_type": "code",
   "execution_count": 45,
   "metadata": {},
   "outputs": [
    {
     "data": {
      "text/html": [
       "<div>\n",
       "<style scoped>\n",
       "    .dataframe tbody tr th:only-of-type {\n",
       "        vertical-align: middle;\n",
       "    }\n",
       "\n",
       "    .dataframe tbody tr th {\n",
       "        vertical-align: top;\n",
       "    }\n",
       "\n",
       "    .dataframe thead th {\n",
       "        text-align: right;\n",
       "    }\n",
       "</style>\n",
       "<table border=\"1\" class=\"dataframe\">\n",
       "  <thead>\n",
       "    <tr style=\"text-align: right;\">\n",
       "      <th></th>\n",
       "      <th>#1 tweet_ID</th>\n",
       "    </tr>\n",
       "  </thead>\n",
       "  <tbody>\n",
       "    <tr>\n",
       "      <th>9541099</th>\n",
       "      <td>535300081226760192</td>\n",
       "    </tr>\n",
       "  </tbody>\n",
       "</table>\n",
       "</div>"
      ],
      "text/plain": [
       "                #1 tweet_ID\n",
       "9541099  535300081226760192"
      ]
     },
     "execution_count": 45,
     "metadata": {},
     "output_type": "execute_result"
    }
   ],
   "source": [
    "base[base['#1 tweet_ID'] == 535300081226760192]"
   ]
  },
  {
   "cell_type": "code",
   "execution_count": 46,
   "metadata": {},
   "outputs": [
    {
     "data": {
      "text/plain": [
       "9541100"
      ]
     },
     "execution_count": 46,
     "metadata": {},
     "output_type": "execute_result"
    }
   ],
   "source": [
    "len(con_df)"
   ]
  },
  {
   "cell_type": "code",
   "execution_count": 49,
   "metadata": {},
   "outputs": [],
   "source": [
    "last_batch = base[9541100:]"
   ]
  },
  {
   "cell_type": "code",
   "execution_count": 50,
   "metadata": {},
   "outputs": [
    {
     "data": {
      "text/plain": [
       "458900"
      ]
     },
     "execution_count": 50,
     "metadata": {},
     "output_type": "execute_result"
    }
   ],
   "source": [
    "len(last_batch)"
   ]
  },
  {
   "cell_type": "code",
   "execution_count": 51,
   "metadata": {},
   "outputs": [
    {
     "data": {
      "text/plain": [
       "4.589"
      ]
     },
     "execution_count": 51,
     "metadata": {},
     "output_type": "execute_result"
    }
   ],
   "source": [
    "458900/100000"
   ]
  },
  {
   "cell_type": "code",
   "execution_count": 3,
   "metadata": {},
   "outputs": [],
   "source": [
    "import pandas as pd\n",
    "res = pd.read_csv('../tsv/10m_collected.tsv',sep='\\t')"
   ]
  },
  {
   "cell_type": "code",
   "execution_count": 6,
   "metadata": {},
   "outputs": [],
   "source": [
    "res = res.drop(columns=['Unnamed: 0'])"
   ]
  },
  {
   "cell_type": "code",
   "execution_count": 7,
   "metadata": {},
   "outputs": [
    {
     "data": {
      "text/html": [
       "<div>\n",
       "<style scoped>\n",
       "    .dataframe tbody tr th:only-of-type {\n",
       "        vertical-align: middle;\n",
       "    }\n",
       "\n",
       "    .dataframe tbody tr th {\n",
       "        vertical-align: top;\n",
       "    }\n",
       "\n",
       "    .dataframe thead th {\n",
       "        text-align: right;\n",
       "    }\n",
       "</style>\n",
       "<table border=\"1\" class=\"dataframe\">\n",
       "  <thead>\n",
       "    <tr style=\"text-align: right;\">\n",
       "      <th></th>\n",
       "      <th>#1 tweet_ID</th>\n",
       "      <th>#2 tweet_content</th>\n",
       "    </tr>\n",
       "  </thead>\n",
       "  <tbody>\n",
       "    <tr>\n",
       "      <th>0</th>\n",
       "      <td>1041788841</td>\n",
       "      <td>من الذى سيحدد قيمة الأصول التى ستتحول ملكيتها ...</td>\n",
       "    </tr>\n",
       "    <tr>\n",
       "      <th>1</th>\n",
       "      <td>2276732618</td>\n",
       "      <td>هنا طلع عالم اخر مليء باشياء حلوه معكم على طول</td>\n",
       "    </tr>\n",
       "    <tr>\n",
       "      <th>2</th>\n",
       "      <td>2419368434</td>\n",
       "      <td>السعودية تعاني من أزمة هوية وأزمة إنجاز , \" وك...</td>\n",
       "    </tr>\n",
       "    <tr>\n",
       "      <th>3</th>\n",
       "      <td>2440569453</td>\n",
       "      <td>أصبح سقوط المملكة قاب قوسين قصيدة نبطية رائعة ...</td>\n",
       "    </tr>\n",
       "    <tr>\n",
       "      <th>4</th>\n",
       "      <td>2504036777</td>\n",
       "      <td>واستبد الامراء والاميرات على الشعب . وعاثت اسر...</td>\n",
       "    </tr>\n",
       "    <tr>\n",
       "      <th>...</th>\n",
       "      <td>...</td>\n",
       "      <td>...</td>\n",
       "    </tr>\n",
       "    <tr>\n",
       "      <th>9999995</th>\n",
       "      <td>942404301854527488</td>\n",
       "      <td>RT @Esamcartoon: I just saw كاريكاتير اليوم … ...</td>\n",
       "    </tr>\n",
       "    <tr>\n",
       "      <th>9999996</th>\n",
       "      <td>942404481035243520</td>\n",
       "      <td>(رب السماوات والأرض وما بينهما فاعبده واصطبر ل...</td>\n",
       "    </tr>\n",
       "    <tr>\n",
       "      <th>9999997</th>\n",
       "      <td>942405092199804928</td>\n",
       "      <td>@Ali__ALKANDERI عالبركه علي🌹. عقبال ما نشوفك ب...</td>\n",
       "    </tr>\n",
       "    <tr>\n",
       "      <th>9999998</th>\n",
       "      <td>942405262312464384</td>\n",
       "      <td>RT @mzagy1122: اللهم إني أعوذ بك من الهم والحز...</td>\n",
       "    </tr>\n",
       "    <tr>\n",
       "      <th>9999999</th>\n",
       "      <td>942405345049284608</td>\n",
       "      <td>RT @yoyoahmed155: @Aya_elbeak @SasaNomair1 ايو...</td>\n",
       "    </tr>\n",
       "  </tbody>\n",
       "</table>\n",
       "<p>10000000 rows × 2 columns</p>\n",
       "</div>"
      ],
      "text/plain": [
       "                #1 tweet_ID                                   #2 tweet_content\n",
       "0                1041788841  من الذى سيحدد قيمة الأصول التى ستتحول ملكيتها ...\n",
       "1                2276732618     هنا طلع عالم اخر مليء باشياء حلوه معكم على طول\n",
       "2                2419368434  السعودية تعاني من أزمة هوية وأزمة إنجاز , \" وك...\n",
       "3                2440569453  أصبح سقوط المملكة قاب قوسين قصيدة نبطية رائعة ...\n",
       "4                2504036777  واستبد الامراء والاميرات على الشعب . وعاثت اسر...\n",
       "...                     ...                                                ...\n",
       "9999995  942404301854527488  RT @Esamcartoon: I just saw كاريكاتير اليوم … ...\n",
       "9999996  942404481035243520  (رب السماوات والأرض وما بينهما فاعبده واصطبر ل...\n",
       "9999997  942405092199804928  @Ali__ALKANDERI عالبركه علي🌹. عقبال ما نشوفك ب...\n",
       "9999998  942405262312464384  RT @mzagy1122: اللهم إني أعوذ بك من الهم والحز...\n",
       "9999999  942405345049284608  RT @yoyoahmed155: @Aya_elbeak @SasaNomair1 ايو...\n",
       "\n",
       "[10000000 rows x 2 columns]"
      ]
     },
     "execution_count": 7,
     "metadata": {},
     "output_type": "execute_result"
    }
   ],
   "source": [
    "res"
   ]
  },
  {
   "cell_type": "code",
   "execution_count": 8,
   "metadata": {},
   "outputs": [],
   "source": [
    "res.to_csv('../tsv/10m_collected.tsv',sep='\\t',index=False)"
   ]
  },
  {
   "cell_type": "code",
   "execution_count": null,
   "metadata": {},
   "outputs": [],
   "source": []
  }
 ],
 "metadata": {
  "kernelspec": {
   "display_name": "Python 3",
   "language": "python",
   "name": "python3"
  },
  "language_info": {
   "codemirror_mode": {
    "name": "ipython",
    "version": 3
   },
   "file_extension": ".py",
   "mimetype": "text/x-python",
   "name": "python",
   "nbconvert_exporter": "python",
   "pygments_lexer": "ipython3",
   "version": "3.7.7"
  }
 },
 "nbformat": 4,
 "nbformat_minor": 4
}
