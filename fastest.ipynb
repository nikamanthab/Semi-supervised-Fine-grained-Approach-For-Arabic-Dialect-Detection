{
 "cells": [
  {
   "cell_type": "code",
   "execution_count": 1,
   "metadata": {
    "scrolled": true
   },
   "outputs": [
    {
     "name": "stderr",
     "output_type": "stream",
     "text": [
      "/home/nikamanth/.local/lib/python3.7/site-packages/tensorflow/python/framework/dtypes.py:516: FutureWarning: Passing (type, 1) or '1type' as a synonym of type is deprecated; in a future version of numpy, it will be understood as (type, (1,)) / '(1,)type'.\n",
      "  _np_qint8 = np.dtype([(\"qint8\", np.int8, 1)])\n",
      "/home/nikamanth/.local/lib/python3.7/site-packages/tensorflow/python/framework/dtypes.py:517: FutureWarning: Passing (type, 1) or '1type' as a synonym of type is deprecated; in a future version of numpy, it will be understood as (type, (1,)) / '(1,)type'.\n",
      "  _np_quint8 = np.dtype([(\"quint8\", np.uint8, 1)])\n",
      "/home/nikamanth/.local/lib/python3.7/site-packages/tensorflow/python/framework/dtypes.py:518: FutureWarning: Passing (type, 1) or '1type' as a synonym of type is deprecated; in a future version of numpy, it will be understood as (type, (1,)) / '(1,)type'.\n",
      "  _np_qint16 = np.dtype([(\"qint16\", np.int16, 1)])\n",
      "/home/nikamanth/.local/lib/python3.7/site-packages/tensorflow/python/framework/dtypes.py:519: FutureWarning: Passing (type, 1) or '1type' as a synonym of type is deprecated; in a future version of numpy, it will be understood as (type, (1,)) / '(1,)type'.\n",
      "  _np_quint16 = np.dtype([(\"quint16\", np.uint16, 1)])\n",
      "/home/nikamanth/.local/lib/python3.7/site-packages/tensorflow/python/framework/dtypes.py:520: FutureWarning: Passing (type, 1) or '1type' as a synonym of type is deprecated; in a future version of numpy, it will be understood as (type, (1,)) / '(1,)type'.\n",
      "  _np_qint32 = np.dtype([(\"qint32\", np.int32, 1)])\n",
      "/home/nikamanth/.local/lib/python3.7/site-packages/tensorflow/python/framework/dtypes.py:525: FutureWarning: Passing (type, 1) or '1type' as a synonym of type is deprecated; in a future version of numpy, it will be understood as (type, (1,)) / '(1,)type'.\n",
      "  np_resource = np.dtype([(\"resource\", np.ubyte, 1)])\n",
      "/home/nikamanth/.local/lib/python3.7/site-packages/tensorboard/compat/tensorflow_stub/dtypes.py:541: FutureWarning: Passing (type, 1) or '1type' as a synonym of type is deprecated; in a future version of numpy, it will be understood as (type, (1,)) / '(1,)type'.\n",
      "  _np_qint8 = np.dtype([(\"qint8\", np.int8, 1)])\n",
      "/home/nikamanth/.local/lib/python3.7/site-packages/tensorboard/compat/tensorflow_stub/dtypes.py:542: FutureWarning: Passing (type, 1) or '1type' as a synonym of type is deprecated; in a future version of numpy, it will be understood as (type, (1,)) / '(1,)type'.\n",
      "  _np_quint8 = np.dtype([(\"quint8\", np.uint8, 1)])\n",
      "/home/nikamanth/.local/lib/python3.7/site-packages/tensorboard/compat/tensorflow_stub/dtypes.py:543: FutureWarning: Passing (type, 1) or '1type' as a synonym of type is deprecated; in a future version of numpy, it will be understood as (type, (1,)) / '(1,)type'.\n",
      "  _np_qint16 = np.dtype([(\"qint16\", np.int16, 1)])\n",
      "/home/nikamanth/.local/lib/python3.7/site-packages/tensorboard/compat/tensorflow_stub/dtypes.py:544: FutureWarning: Passing (type, 1) or '1type' as a synonym of type is deprecated; in a future version of numpy, it will be understood as (type, (1,)) / '(1,)type'.\n",
      "  _np_quint16 = np.dtype([(\"quint16\", np.uint16, 1)])\n",
      "/home/nikamanth/.local/lib/python3.7/site-packages/tensorboard/compat/tensorflow_stub/dtypes.py:545: FutureWarning: Passing (type, 1) or '1type' as a synonym of type is deprecated; in a future version of numpy, it will be understood as (type, (1,)) / '(1,)type'.\n",
      "  _np_qint32 = np.dtype([(\"qint32\", np.int32, 1)])\n",
      "/home/nikamanth/.local/lib/python3.7/site-packages/tensorboard/compat/tensorflow_stub/dtypes.py:550: FutureWarning: Passing (type, 1) or '1type' as a synonym of type is deprecated; in a future version of numpy, it will be understood as (type, (1,)) / '(1,)type'.\n",
      "  np_resource = np.dtype([(\"resource\", np.ubyte, 1)])\n"
     ]
    }
   ],
   "source": [
    "import numpy as np\n",
    "import pandas as pd\n",
    "import os\n",
    "import torch\n",
    "import matplotlib.pyplot as plt\n",
    "from torch.utils.data import Dataset, DataLoader\n",
    "from torch.nn import Linear,Softmax,CrossEntropyLoss,Module,ReLU,DataParallel,Sequential\n",
    "from torch.optim import Adam, SGD\n",
    "from tqdm import tqdm_notebook\n",
    "from nltk import word_tokenize\n",
    "from pymagnitude import *\n",
    "from sklearn.metrics import accuracy_score, f1_score\n",
    "from tqdm import tqdm\n",
    "from time import time\n",
    "from sentence_transformers import SentenceTransformer\n",
    "import re\n",
    "\n",
    "import warnings\n",
    "warnings.filterwarnings('ignore')\n",
    "\n",
    "device = 'cuda:0'"
   ]
  },
  {
   "cell_type": "code",
   "execution_count": 2,
   "metadata": {},
   "outputs": [
    {
     "name": "stderr",
     "output_type": "stream",
     "text": [
      "100%|██████████| 93933/93933 [00:00<00:00, 241234.41it/s]\n",
      "100%|██████████| 4957/4957 [00:00<00:00, 281254.34it/s]\n"
     ]
    }
   ],
   "source": [
    "train_df = pd.read_csv('../tsv/oversample_train.tsv','\\t')\n",
    "dev_df = pd.read_csv('../NADI-2020_release_1.0/NADI_release/dev_labeled.tsv',sep='\\t')\n",
    "X_train_corrected_tweets = []\n",
    "for tweet in tqdm(train_df['#2 tweet_content']):\n",
    "    new_tweet = re.findall( '[^A-Za-z:/_.0-9\\\\#@,=+\\(\\)]+' ,tweet)\n",
    "    new_tweet = \" \".join(new_tweet).replace('\\xa0','').replace('\\u200c','').replace('\\U000fe329','').replace('\\u2066','').replace('\\u2069','').strip()\n",
    "    X_train_corrected_tweets.append(new_tweet)\n",
    "    \n",
    "X_dev_corrected_tweets = []\n",
    "for tweet in tqdm(dev_df['#2 tweet_content']):\n",
    "    new_tweet = re.findall( '[^A-Za-z:/_.0-9\\\\#@,=+\\(\\)]+' ,tweet) #[^\\x00-\\x19\\x21-\\x7F]+\n",
    "    new_tweet = \" \".join(new_tweet).replace('\\xa0','').replace('\\u200c','').replace('\\U000fe329','').replace('\\u2066','').replace('\\u2069','').strip()\n",
    "    X_dev_corrected_tweets.append(new_tweet)"
   ]
  },
  {
   "cell_type": "code",
   "execution_count": 3,
   "metadata": {},
   "outputs": [],
   "source": [
    "train_df['#2 tweet_content'] = X_train_corrected_tweets\n",
    "dev_df['#2 tweet_content'] = X_dev_corrected_tweets"
   ]
  },
  {
   "cell_type": "code",
   "execution_count": 4,
   "metadata": {},
   "outputs": [],
   "source": [
    "label_map = {}\n",
    "y_train_original = train_df[\"#3 country_label\"]\n",
    "for u in range(len(y_train_original.unique())):\n",
    "    label_map[y_train_original.unique()[u]] = int(u)\n",
    "reverse_label_map = {value : key for (key, value) in label_map.items()}\n",
    "def label_onehot(label):\n",
    "    onehot = np.zeros((21))\n",
    "    index = label_map[label]\n",
    "    onehot[index] = 1\n",
    "    return onehot"
   ]
  },
  {
   "cell_type": "code",
   "execution_count": 5,
   "metadata": {},
   "outputs": [],
   "source": [
    "class ArabicDataset(Dataset):\n",
    "    def __init__(self, csv_file=None, million_csv=None, transform=None):\n",
    "        fast = Magnitude(\"../downloads/fasttext-arabic/fasttext-arabic.magnitude\")\n",
    "        def transform(x):\n",
    "            vectors = []\n",
    "            for title in tqdm(x):\n",
    "                vectors.append(np.average(fast.query(word_tokenize(str(title))), axis = 0))\n",
    "            return np.array(vectors)\n",
    "        bert = SentenceTransformer('distiluse-base-multilingual-cased',device=device)\n",
    "        def berttext(x):\n",
    "            return bert.encode(x,show_progress_bar=False,\n",
    "                                          batch_size=1000)\n",
    "        \n",
    "        self.csv_file = csv_file\n",
    "        if csv_file:         \n",
    "            if million_csv:\n",
    "                self.text_df = pd.concat([pd.read_csv(csv_file, sep='\\t'),\n",
    "                                         pd.read_csv(million_csv, sep='\\t')])\n",
    "            else:\n",
    "                self.text_df = pd.read_csv(csv_file,sep='\\t')\n",
    "        else:\n",
    "            self.text_df = pd.read_csv(million_csv,sep='\\t')\n",
    "#         self.berttext_data = np.array(berttext(self.text_df['#2 tweet_content']))\n",
    "        self.fasttext_data = transform(self.text_df['#2 tweet_content'])\n",
    "#         self.combined_data = np.hstack([self.fasttext_data, self.berttext_data])\n",
    "    def __len__(self):\n",
    "        return len(self.text_df)\n",
    "    def __getitem__(self, idx):\n",
    "        if torch.is_tensor(idx):\n",
    "            idx = idx.tolist()\n",
    "        text = self.fasttext_data[idx]\n",
    "#         text = fasttext([text]).reshape((300))\n",
    "        if self.csv_file:\n",
    "            label = self.text_df.iloc[idx]['#3 country_label']\n",
    "            label = label_onehot(label)\n",
    "            sample = {'text': text, \n",
    "                      'label': torch.from_numpy(label).to(device)}\n",
    "        else:\n",
    "            sample = {'text':text}\n",
    "        return sample"
   ]
  },
  {
   "cell_type": "code",
   "execution_count": 6,
   "metadata": {},
   "outputs": [],
   "source": [
    "class TuningNet(Module):\n",
    "    def __init__(self, D_in, H,D_out):\n",
    "        super(TuningNet, self).__init__()\n",
    "        self.conv1 =  torch.nn.Conv1d(1, 512, 1)\n",
    "        self.flatten = torch.nn.Flatten()\n",
    "        self.linear1 = torch.nn.Linear(D_in, H)\n",
    "        self.relu = ReLU()\n",
    "#         self.linear1_1 = torch.nn.Linear(H, H)\n",
    "#         self.relu2 = ReLU()\n",
    "        self.linear2 = torch.nn.Linear(H, D_out)\n",
    "        self.softmax = Softmax(dim=1)\n",
    "\n",
    "    def forward(self, x):\n",
    "        x = self.conv1(x)\n",
    "        x = self.flatten(x)\n",
    "        x = self.linear1(x)\n",
    "        x = self.relu(x)\n",
    "#         x = self.linear1_1(x)\n",
    "#         x = self.relu2(x)\n",
    "        x = self.linear2(x)\n",
    "        y_pred = self.softmax(x)\n",
    "        return y_pred"
   ]
  },
  {
   "cell_type": "code",
   "execution_count": 7,
   "metadata": {},
   "outputs": [],
   "source": [
    "train_csv_path = '../NADI-2020_release_1.0/NADI_release/train_labeled.tsv'\n",
    "dev_csv_path = '../NADI-2020_release_1.0/NADI_release/dev_labeled.tsv'\n",
    "num_of_epochs = 50\n",
    "learning_rate = 0.001\n",
    "model = TuningNet(300,512,21).to(device)\n",
    "train_batch_size = 32"
   ]
  },
  {
   "cell_type": "code",
   "execution_count": 8,
   "metadata": {},
   "outputs": [],
   "source": [
    "# learning_rate=0.01"
   ]
  },
  {
   "cell_type": "code",
   "execution_count": 9,
   "metadata": {
    "scrolled": true
   },
   "outputs": [
    {
     "name": "stderr",
     "output_type": "stream",
     "text": [
      "  1%|          | 167/21000 [00:29<1:00:40,  5.72it/s]\n",
      "ERROR:root:Internal Python error in the inspect module.\n",
      "Below is the traceback from this internal error.\n",
      "\n"
     ]
    },
    {
     "name": "stdout",
     "output_type": "stream",
     "text": [
      "Traceback (most recent call last):\n",
      "  File \"/home/nikamanth/anaconda3/envs/torch/lib/python3.7/site-packages/IPython/core/interactiveshell.py\", line 3331, in run_code\n",
      "    exec(code_obj, self.user_global_ns, self.user_ns)\n",
      "  File \"<ipython-input-9-3164553ceee0>\", line 1, in <module>\n",
      "    traindataset = ArabicDataset(train_csv_path) #,million_csv_path)\n",
      "  File \"<ipython-input-5-dd29a1012e5d>\", line 24, in __init__\n",
      "    self.fasttext_data = transform(self.text_df['#2 tweet_content'])\n",
      "  File \"<ipython-input-5-dd29a1012e5d>\", line 7, in transform\n",
      "    vectors.append(np.average(fast.query(word_tokenize(str(title))), axis = 0))\n",
      "  File \"/home/nikamanth/anaconda3/envs/torch/lib/python3.7/site-packages/pymagnitude/third_party/repoze/lru/__init__.py\", line 390, in cached_wrapper\n",
      "    val = func(*args, **kwargs)\n",
      "  File \"/home/nikamanth/anaconda3/envs/torch/lib/python3.7/site-packages/pymagnitude/__init__.py\", line 1221, in query\n",
      "    vectors = self._vectors_for_keys_cached(q, normalized)\n",
      "  File \"/home/nikamanth/anaconda3/envs/torch/lib/python3.7/site-packages/pymagnitude/__init__.py\", line 1109, in _vectors_for_keys_cached\n",
      "    unseen_keys[i], normalized, force=force)\n",
      "  File \"/home/nikamanth/anaconda3/envs/torch/lib/python3.7/site-packages/pymagnitude/third_party/repoze/lru/__init__.py\", line 390, in cached_wrapper\n",
      "    val = func(*args, **kwargs)\n",
      "  File \"/home/nikamanth/anaconda3/envs/torch/lib/python3.7/site-packages/pymagnitude/__init__.py\", line 483, in _out_of_vocab_vector_cached\n",
      "    return self._out_of_vocab_vector(*args, **kwargs)\n",
      "  File \"/home/nikamanth/anaconda3/envs/torch/lib/python3.7/site-packages/pymagnitude/__init__.py\", line 992, in _out_of_vocab_vector\n",
      "    normalized=normalized) *\n",
      "  File \"/home/nikamanth/anaconda3/envs/torch/lib/python3.7/site-packages/pymagnitude/__init__.py\", line 829, in _db_query_similar_keys_vector\n",
      "    params).fetchall()\n",
      "KeyboardInterrupt\n",
      "\n",
      "During handling of the above exception, another exception occurred:\n",
      "\n",
      "Traceback (most recent call last):\n",
      "  File \"/home/nikamanth/anaconda3/envs/torch/lib/python3.7/site-packages/IPython/core/interactiveshell.py\", line 2044, in showtraceback\n",
      "    stb = value._render_traceback_()\n",
      "AttributeError: 'KeyboardInterrupt' object has no attribute '_render_traceback_'\n",
      "\n",
      "During handling of the above exception, another exception occurred:\n",
      "\n",
      "Traceback (most recent call last):\n",
      "  File \"/home/nikamanth/anaconda3/envs/torch/lib/python3.7/site-packages/IPython/core/ultratb.py\", line 1148, in get_records\n",
      "    return _fixed_getinnerframes(etb, number_of_lines_of_context, tb_offset)\n",
      "  File \"/home/nikamanth/anaconda3/envs/torch/lib/python3.7/site-packages/IPython/core/ultratb.py\", line 316, in wrapped\n",
      "    return f(*args, **kwargs)\n",
      "  File \"/home/nikamanth/anaconda3/envs/torch/lib/python3.7/site-packages/IPython/core/ultratb.py\", line 350, in _fixed_getinnerframes\n",
      "    records = fix_frame_records_filenames(inspect.getinnerframes(etb, context))\n",
      "  File \"/home/nikamanth/anaconda3/envs/torch/lib/python3.7/inspect.py\", line 1502, in getinnerframes\n",
      "    frameinfo = (tb.tb_frame,) + getframeinfo(tb, context)\n",
      "  File \"/home/nikamanth/anaconda3/envs/torch/lib/python3.7/inspect.py\", line 1460, in getframeinfo\n",
      "    filename = getsourcefile(frame) or getfile(frame)\n",
      "  File \"/home/nikamanth/anaconda3/envs/torch/lib/python3.7/inspect.py\", line 696, in getsourcefile\n",
      "    if getattr(getmodule(object, filename), '__loader__', None) is not None:\n",
      "  File \"/home/nikamanth/anaconda3/envs/torch/lib/python3.7/inspect.py\", line 733, in getmodule\n",
      "    if ismodule(module) and hasattr(module, '__file__'):\n",
      "KeyboardInterrupt\n"
     ]
    },
    {
     "ename": "KeyboardInterrupt",
     "evalue": "",
     "output_type": "error",
     "traceback": [
      "\u001b[0;31m---------------------------------------------------------------------------\u001b[0m"
     ]
    }
   ],
   "source": [
    "traindataset = ArabicDataset(train_csv_path) #,million_csv_path)"
   ]
  },
  {
   "cell_type": "code",
   "execution_count": null,
   "metadata": {},
   "outputs": [],
   "source": [
    "trainloader = DataLoader(traindataset, batch_size=32,\n",
    "                        shuffle=True)\n",
    "# testloader = DataLoader(traindataset, batch_size=1000)\n",
    "devdataset = ArabicDataset(dev_csv_path)\n",
    "devloader = DataLoader(devdataset, batch_size=1000)"
   ]
  },
  {
   "cell_type": "code",
   "execution_count": 32,
   "metadata": {
    "scrolled": true
   },
   "outputs": [
    {
     "name": "stderr",
     "output_type": "stream",
     "text": [
      "  0%|          | 0/155 [00:00<?, ?it/s]"
     ]
    },
    {
     "name": "stdout",
     "output_type": "stream",
     "text": [
      "epoch: 0\n"
     ]
    },
    {
     "name": "stderr",
     "output_type": "stream",
     "text": [
      "\n"
     ]
    },
    {
     "ename": "AttributeError",
     "evalue": "'list' object has no attribute 'to'",
     "output_type": "error",
     "traceback": [
      "\u001b[0;31m---------------------------------------------------------------------------\u001b[0m",
      "\u001b[0;31mAttributeError\u001b[0m                            Traceback (most recent call last)",
      "\u001b[0;32m<ipython-input-32-ced13f646d88>\u001b[0m in \u001b[0;36m<module>\u001b[0;34m\u001b[0m\n\u001b[1;32m     11\u001b[0m     \u001b[0;32mfor\u001b[0m \u001b[0mbatch\u001b[0m \u001b[0;32min\u001b[0m \u001b[0mtqdm\u001b[0m\u001b[0;34m(\u001b[0m\u001b[0mtrainloader\u001b[0m\u001b[0;34m)\u001b[0m\u001b[0;34m:\u001b[0m\u001b[0;34m\u001b[0m\u001b[0;34m\u001b[0m\u001b[0m\n\u001b[1;32m     12\u001b[0m         \u001b[0mi_batch\u001b[0m \u001b[0;34m+=\u001b[0m\u001b[0;36m1\u001b[0m\u001b[0;34m\u001b[0m\u001b[0;34m\u001b[0m\u001b[0m\n\u001b[0;32m---> 13\u001b[0;31m         \u001b[0moutput\u001b[0m \u001b[0;34m=\u001b[0m \u001b[0mmodel\u001b[0m\u001b[0;34m(\u001b[0m\u001b[0mbatch\u001b[0m\u001b[0;34m[\u001b[0m\u001b[0;34m'text'\u001b[0m\u001b[0;34m]\u001b[0m\u001b[0;34m.\u001b[0m\u001b[0mto\u001b[0m\u001b[0;34m(\u001b[0m\u001b[0mdevice\u001b[0m\u001b[0;34m)\u001b[0m\u001b[0;34m)\u001b[0m\u001b[0;34m\u001b[0m\u001b[0;34m\u001b[0m\u001b[0m\n\u001b[0m\u001b[1;32m     14\u001b[0m         \u001b[0mloss\u001b[0m \u001b[0;34m=\u001b[0m \u001b[0mcriterian\u001b[0m\u001b[0;34m(\u001b[0m\u001b[0moutput\u001b[0m\u001b[0;34m,\u001b[0m\u001b[0mbatch\u001b[0m\u001b[0;34m[\u001b[0m\u001b[0;34m'label'\u001b[0m\u001b[0;34m]\u001b[0m\u001b[0;34m.\u001b[0m\u001b[0margmax\u001b[0m\u001b[0;34m(\u001b[0m\u001b[0mdim\u001b[0m\u001b[0;34m=\u001b[0m\u001b[0;36m1\u001b[0m\u001b[0;34m)\u001b[0m\u001b[0;34m)\u001b[0m\u001b[0;34m\u001b[0m\u001b[0;34m\u001b[0m\u001b[0m\n\u001b[1;32m     15\u001b[0m         \u001b[0moptimizer\u001b[0m\u001b[0;34m.\u001b[0m\u001b[0mzero_grad\u001b[0m\u001b[0;34m(\u001b[0m\u001b[0;34m)\u001b[0m\u001b[0;34m\u001b[0m\u001b[0;34m\u001b[0m\u001b[0m\n",
      "\u001b[0;31mAttributeError\u001b[0m: 'list' object has no attribute 'to'"
     ]
    }
   ],
   "source": [
    "criterian = CrossEntropyLoss().to(device)\n",
    "# optimizer = SGD(model.parameters(), lr=learning_rate,momentum=0.9,nesterov=True)\n",
    "optimizer = Adam(model.parameters(), lr=learning_rate)\n",
    "train_f1 = []\n",
    "dev_f1 = []\n",
    "for epoch in range(num_of_epochs):\n",
    "    i_batch = 0\n",
    "    y_pred = []\n",
    "    y_true = []\n",
    "    print(\"epoch:\",epoch)\n",
    "    for batch in tqdm(trainloader):\n",
    "        i_batch +=1\n",
    "        output = model(batch['text'].to(device))\n",
    "        loss = criterian(output,batch['label'].argmax(dim=1))\n",
    "        optimizer.zero_grad()\n",
    "        loss.backward()\n",
    "        optimizer.step()\n",
    "        y_pred += list(output.argmax(dim=1).detach().cpu().numpy())\n",
    "        y_true += list(batch['label'].argmax(dim=1).detach().cpu().numpy()) \n",
    "    print(\"training acc:\",accuracy_score(y_pred,y_true),end=' ')\n",
    "    f1 = f1_score(y_pred,y_true,average='macro')\n",
    "    train_f1.append(f1)\n",
    "    print(\"training f1_score:\", f1)\n",
    "    \n",
    "    \n",
    "    y_pred = []\n",
    "    y_true = []\n",
    "    for batch in devloader:\n",
    "        output = model(batch['text'].to(device))\n",
    "        y_pred += list(output.argmax(dim=1).detach().cpu().numpy())\n",
    "        y_true += list(batch['label'].argmax(dim=1).detach().cpu().numpy())\n",
    "    print(\"dev acc:\",accuracy_score(y_pred,y_true),end=' ')\n",
    "    f1 = f1_score(y_pred,y_true,average='macro')\n",
    "    dev_f1.append(f1)\n",
    "    print(\"training f1_score:\", f1)"
   ]
  },
  {
   "cell_type": "code",
   "execution_count": 33,
   "metadata": {},
   "outputs": [],
   "source": [
    "# torch.save(model,'../semi-supervised_train/models/task1-sgd-lvl2-2000-improve.pt')"
   ]
  },
  {
   "cell_type": "code",
   "execution_count": 25,
   "metadata": {},
   "outputs": [],
   "source": [
    "# model = torch.load('../semi-supervised_train/models/fastest.pt').to(device)"
   ]
  },
  {
   "cell_type": "code",
   "execution_count": null,
   "metadata": {},
   "outputs": [],
   "source": []
  },
  {
   "cell_type": "code",
   "execution_count": null,
   "metadata": {},
   "outputs": [],
   "source": []
  }
 ],
 "metadata": {
  "kernelspec": {
   "display_name": "Python 3",
   "language": "python",
   "name": "python3"
  },
  "language_info": {
   "codemirror_mode": {
    "name": "ipython",
    "version": 3
   },
   "file_extension": ".py",
   "mimetype": "text/x-python",
   "name": "python",
   "nbconvert_exporter": "python",
   "pygments_lexer": "ipython3",
   "version": "3.7.7"
  }
 },
 "nbformat": 4,
 "nbformat_minor": 4
}
