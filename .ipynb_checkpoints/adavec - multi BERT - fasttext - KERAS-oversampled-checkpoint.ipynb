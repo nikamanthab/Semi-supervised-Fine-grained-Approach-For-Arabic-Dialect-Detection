{
 "cells": [
  {
   "cell_type": "code",
   "execution_count": 1,
   "metadata": {},
   "outputs": [
    {
     "name": "stderr",
     "output_type": "stream",
     "text": [
      "Using TensorFlow backend.\n"
     ]
    }
   ],
   "source": [
    "import matplotlib.pyplot as plt\n",
    "import pandas as pd\n",
    "from keras.models import Sequential\n",
    "from keras.layers import Dense, LSTM\n",
    "from tqdm.notebook import tqdm\n",
    "from keras.utils import to_categorical\n",
    "import gensim\n",
    "import numpy as np\n",
    "from keras.callbacks import callbacks\n",
    "from sentence_transformers import SentenceTransformer"
   ]
  },
  {
   "cell_type": "code",
   "execution_count": 2,
   "metadata": {},
   "outputs": [],
   "source": [
    "from keras import backend as K\n",
    "\n",
    "def recall_m(y_true, y_pred):\n",
    "    true_positives = K.sum(K.round(K.clip(y_true * y_pred, 0, 1)))\n",
    "    possible_positives = K.sum(K.round(K.clip(y_true, 0, 1)))\n",
    "    recall = true_positives / (possible_positives + K.epsilon())\n",
    "    return recall\n",
    "\n",
    "def precision_m(y_true, y_pred):\n",
    "    true_positives = K.sum(K.round(K.clip(y_true * y_pred, 0, 1)))\n",
    "    predicted_positives = K.sum(K.round(K.clip(y_pred, 0, 1)))\n",
    "    precision = true_positives / (predicted_positives + K.epsilon())\n",
    "    return precision\n",
    "\n",
    "def f1_m(y_true, y_pred):\n",
    "    precision = precision_m(y_true, y_pred)\n",
    "    recall = recall_m(y_true, y_pred)\n",
    "    return 2*((precision*recall)/(precision+recall+K.epsilon()))"
   ]
  },
  {
   "cell_type": "code",
   "execution_count": 2,
   "metadata": {},
   "outputs": [],
   "source": [
    "#aravec\n",
    "t_model = gensim.models.Word2Vec.load(\n",
    "    '../downloads/aravec/full_uni_cbow_100_twitter/full_uni_cbow_100_twitter.mdl')"
   ]
  },
  {
   "cell_type": "code",
   "execution_count": 3,
   "metadata": {},
   "outputs": [],
   "source": [
    "train_df = pd.read_csv('../NADI-2020_release_1.0/NADI_release/train_labeled.tsv',sep='\\t')\n",
    "dev_df = pd.read_csv('../NADI-2020_release_1.0/NADI_release/dev_labeled.tsv',sep='\\t')\n",
    "\n",
    "X_train_original,y_train_original = train_df[\"#2 tweet_content\"],train_df[\"#3 country_label\"]\n",
    "X_dev_original,y_dev_original = dev_df[\"#2 tweet_content\"],dev_df[\"#3 country_label\"]"
   ]
  },
  {
   "cell_type": "code",
   "execution_count": 4,
   "metadata": {},
   "outputs": [],
   "source": [
    "labels = {}\n",
    "uni = y_train_original.unique()\n",
    "for i in range(len(uni)):\n",
    "    labels[uni[i]] = i\n",
    "\n",
    "y_train_index = [labels[i] for i in y_train_original]\n",
    "y_dev_index = [labels[i] for i in y_dev_original]\n",
    "\n",
    "y_train = to_categorical(y_train_index, num_classes=21)\n",
    "y_dev = to_categorical(y_dev_index, num_classes=21)"
   ]
  },
  {
   "cell_type": "code",
   "execution_count": 5,
   "metadata": {},
   "outputs": [],
   "source": [
    "X_noov = []\n",
    "for sentence in X_train_original:\n",
    "    sentence = sentence.split(' ')\n",
    "    new_sentence = []\n",
    "    for word in sentence:\n",
    "        if word in t_model.wv.vocab:\n",
    "            new_sentence.append(word)\n",
    "    X_noov.append(new_sentence)\n",
    "X_noov_dev = []\n",
    "for sentence in X_dev_original:\n",
    "    sentence = sentence.split(' ')\n",
    "    new_sentence = []\n",
    "    for word in sentence:\n",
    "        if word in t_model.wv.vocab:\n",
    "            new_sentence.append(word)\n",
    "    X_noov_dev.append(new_sentence)"
   ]
  },
  {
   "cell_type": "code",
   "execution_count": null,
   "metadata": {},
   "outputs": [],
   "source": [
    "X_train = []\n",
    "counter = 0\n",
    "for one_vec in X_noov:\n",
    "    if one_vec == []:\n",
    "        counter += 1\n",
    "        one_vec = ['ومايشوف']\n",
    "    word_vector = t_model.wv[ one_vec ]\n",
    "#     word_vector = np.sum(word_vector,axis=0)\n",
    "    word_vector = np.pad(word_vector,pad_width=((0,100-word_vector.shape[0]),(0,0)))\n",
    "    X_train.append(word_vector)\n",
    "\n",
    "X_dev = []\n",
    "counter = 0\n",
    "for one_vec in X_noov_dev:\n",
    "    if one_vec == []:\n",
    "        counter += 1\n",
    "        one_vec = ['ومايشوف']\n",
    "    word_vector = t_model.wv[ one_vec ]\n",
    "#     word_vector = np.sum(word_vector,axis=0)\n",
    "    word_vector = np.pad(word_vector,pad_width=((0,100-word_vector.shape[0]),(0,0)))\n",
    "    X_dev.append(word_vector)"
   ]
  },
  {
   "cell_type": "code",
   "execution_count": null,
   "metadata": {},
   "outputs": [],
   "source": [
    "X_train = np.array(X_train)\n",
    "X_dev = np.array(X_dev)"
   ]
  },
  {
   "cell_type": "code",
   "execution_count": null,
   "metadata": {},
   "outputs": [],
   "source": [
    "X_train.shape"
   ]
  },
  {
   "cell_type": "code",
   "execution_count": 10,
   "metadata": {},
   "outputs": [],
   "source": [
    "model = Sequential()\n",
    "model.add(LSTM(10, dropout=0.2, recurrent_dropout=0.2,return_sequences=True))\n",
    "model.add(LSTM(10, dropout=0.2, recurrent_dropout=0.2,return_sequences=False))\n",
    "# model.add(Dense(512, activation='relu'))\n",
    "model.add(Dense(21, activation='softmax'))\n",
    "model.compile(loss='categorical_crossentropy', optimizer='adam', metrics=['accuracy'])"
   ]
  },
  {
   "cell_type": "code",
   "execution_count": 11,
   "metadata": {
    "scrolled": true
   },
   "outputs": [
    {
     "name": "stdout",
     "output_type": "stream",
     "text": [
      "Train on 21000 samples, validate on 4957 samples\n",
      "Epoch 1/200\n",
      "21000/21000 [==============================] - 34s 2ms/step - loss: 2.6950 - accuracy: 0.2119 - val_loss: 2.6123 - val_accuracy: 0.2159\n",
      "Epoch 2/200\n",
      "21000/21000 [==============================] - 37s 2ms/step - loss: 2.6511 - accuracy: 0.2130 - val_loss: 2.6122 - val_accuracy: 0.2159\n",
      "Epoch 3/200\n",
      "21000/21000 [==============================] - 37s 2ms/step - loss: 2.6509 - accuracy: 0.2130 - val_loss: 2.6114 - val_accuracy: 0.2159\n",
      "Epoch 4/200\n",
      "21000/21000 [==============================] - 37s 2ms/step - loss: 2.6508 - accuracy: 0.2130 - val_loss: 2.6128 - val_accuracy: 0.2159\n",
      "Epoch 5/200\n",
      "21000/21000 [==============================] - 37s 2ms/step - loss: 2.6511 - accuracy: 0.2130 - val_loss: 2.6107 - val_accuracy: 0.2159\n",
      "Epoch 6/200\n",
      "21000/21000 [==============================] - 37s 2ms/step - loss: 2.6512 - accuracy: 0.2130 - val_loss: 2.6093 - val_accuracy: 0.2159\n",
      "Epoch 7/200\n",
      "21000/21000 [==============================] - 37s 2ms/step - loss: 2.6500 - accuracy: 0.2130 - val_loss: 2.6139 - val_accuracy: 0.2159\n",
      "Epoch 8/200\n",
      "21000/21000 [==============================] - 37s 2ms/step - loss: 2.6503 - accuracy: 0.2130 - val_loss: 2.6120 - val_accuracy: 0.2159\n",
      "Epoch 9/200\n",
      "21000/21000 [==============================] - 37s 2ms/step - loss: 2.6506 - accuracy: 0.2130 - val_loss: 2.6106 - val_accuracy: 0.2159\n",
      "Epoch 10/200\n",
      "21000/21000 [==============================] - 37s 2ms/step - loss: 2.6502 - accuracy: 0.2130 - val_loss: 2.6112 - val_accuracy: 0.2159\n",
      "Epoch 11/200\n",
      "21000/21000 [==============================] - 37s 2ms/step - loss: 2.6508 - accuracy: 0.2130 - val_loss: 2.6128 - val_accuracy: 0.2159\n"
     ]
    }
   ],
   "source": [
    "history = model.fit(X_train,y_train,epochs=200,validation_data=(X_dev,y_dev),\n",
    "                   callbacks=[callbacks.EarlyStopping(monitor='val_loss', min_delta=0, patience=5, verbose=0, mode='auto', baseline=None, restore_best_weights=True)])"
   ]
  },
  {
   "cell_type": "code",
   "execution_count": 12,
   "metadata": {},
   "outputs": [
    {
     "data": {
      "image/png": "[encoded data removed]",
      "text/plain": [
       "<Figure size 432x288 with 1 Axes>"
      ]
     },
     "metadata": {
      "needs_background": "light"
     },
     "output_type": "display_data"
    }
   ],
   "source": [
    "plt.plot(history.history['val_accuracy'])\n",
    "plt.plot(history.history['accuracy'])\n",
    "plt.show()"
   ]
  },
  {
   "cell_type": "code",
   "execution_count": null,
   "metadata": {},
   "outputs": [],
   "source": []
  },
  {
   "cell_type": "code",
   "execution_count": 13,
   "metadata": {},
   "outputs": [],
   "source": [
    "X_train = []\n",
    "counter = 0\n",
    "for one_vec in X_noov:\n",
    "    if one_vec == []:\n",
    "        counter += 1\n",
    "        one_vec = ['ومايشوف']\n",
    "    word_vector = t_model.wv[ one_vec ]\n",
    "    word_vector = np.sum(word_vector,axis=0)\n",
    "#     word_vector = np.pad(word_vector,pad_width=((0,100-word_vector.shape[0]),(0,0)))\n",
    "    X_train.append(word_vector)\n",
    "\n",
    "X_dev = []\n",
    "counter = 0\n",
    "for one_vec in X_noov_dev:\n",
    "    if one_vec == []:\n",
    "        counter += 1\n",
    "        one_vec = ['ومايشوف']\n",
    "    word_vector = t_model.wv[ one_vec ]\n",
    "    word_vector = np.sum(word_vector,axis=0)\n",
    "#     word_vector = np.pad(word_vector,pad_width=((0,100-word_vector.shape[0]),(0,0)))\n",
    "    X_dev.append(word_vector)"
   ]
  },
  {
   "cell_type": "code",
   "execution_count": 14,
   "metadata": {},
   "outputs": [],
   "source": [
    "X_train = np.array(X_train)\n",
    "X_dev = np.array(X_dev)"
   ]
  },
  {
   "cell_type": "code",
   "execution_count": 15,
   "metadata": {},
   "outputs": [
    {
     "data": {
      "text/plain": [
       "(21000, 100)"
      ]
     },
     "execution_count": 15,
     "metadata": {},
     "output_type": "execute_result"
    }
   ],
   "source": [
    "X_train.shape"
   ]
  },
  {
   "cell_type": "code",
   "execution_count": 16,
   "metadata": {},
   "outputs": [],
   "source": [
    "model = Sequential()\n",
    "# model.add(LSTM(10, dropout=0.2, recurrent_dropout=0.2,return_sequences=True))\n",
    "# model.add(LSTM(10, dropout=0.2, recurrent_dropout=0.2,return_sequences=False))\n",
    "model.add(Dense(512, activation='relu'))\n",
    "model.add(Dense(21, activation='softmax'))\n",
    "model.compile(loss='categorical_crossentropy', optimizer='adam', metrics=['accuracy'])"
   ]
  },
  {
   "cell_type": "code",
   "execution_count": 17,
   "metadata": {},
   "outputs": [
    {
     "name": "stdout",
     "output_type": "stream",
     "text": [
      "Train on 21000 samples, validate on 4957 samples\n",
      "Epoch 1/200\n",
      "21000/21000 [==============================] - 1s 57us/step - loss: 3.4226 - accuracy: 0.2509 - val_loss: 2.6937 - val_accuracy: 0.2857\n",
      "Epoch 2/200\n",
      "21000/21000 [==============================] - 1s 48us/step - loss: 2.3935 - accuracy: 0.3243 - val_loss: 2.5883 - val_accuracy: 0.3000\n",
      "Epoch 3/200\n",
      "21000/21000 [==============================] - 1s 49us/step - loss: 2.2147 - accuracy: 0.3562 - val_loss: 2.5878 - val_accuracy: 0.3048\n",
      "Epoch 4/200\n",
      "21000/21000 [==============================] - 1s 49us/step - loss: 2.1042 - accuracy: 0.3798 - val_loss: 2.6184 - val_accuracy: 0.2996\n",
      "Epoch 5/200\n",
      "21000/21000 [==============================] - 1s 49us/step - loss: 2.0200 - accuracy: 0.3985 - val_loss: 2.6800 - val_accuracy: 0.2951\n",
      "Epoch 6/200\n",
      "21000/21000 [==============================] - 1s 49us/step - loss: 1.9504 - accuracy: 0.4192 - val_loss: 2.7176 - val_accuracy: 0.3002\n",
      "Epoch 7/200\n",
      "21000/21000 [==============================] - 1s 50us/step - loss: 1.8706 - accuracy: 0.4353 - val_loss: 2.7991 - val_accuracy: 0.2998\n",
      "Epoch 8/200\n",
      "21000/21000 [==============================] - 1s 50us/step - loss: 1.8027 - accuracy: 0.4580 - val_loss: 2.8692 - val_accuracy: 0.2966\n",
      "Epoch 9/200\n",
      "21000/21000 [==============================] - 1s 49us/step - loss: 1.7323 - accuracy: 0.4758 - val_loss: 2.9255 - val_accuracy: 0.3014\n",
      "Epoch 10/200\n",
      "21000/21000 [==============================] - 1s 49us/step - loss: 1.6533 - accuracy: 0.5000 - val_loss: 3.1106 - val_accuracy: 0.2824\n",
      "Epoch 11/200\n",
      "21000/21000 [==============================] - 1s 49us/step - loss: 1.5877 - accuracy: 0.5173 - val_loss: 3.2007 - val_accuracy: 0.3018\n",
      "Epoch 12/200\n",
      "21000/21000 [==============================] - 1s 49us/step - loss: 1.5326 - accuracy: 0.5339 - val_loss: 3.2787 - val_accuracy: 0.2883\n",
      "Epoch 13/200\n",
      "21000/21000 [==============================] - 1s 49us/step - loss: 1.4528 - accuracy: 0.5580 - val_loss: 3.3864 - val_accuracy: 0.2729\n"
     ]
    }
   ],
   "source": [
    "history = model.fit(X_train,y_train,epochs=200,validation_data=(X_dev,y_dev),\n",
    "                   callbacks=[callbacks.EarlyStopping(monitor='val_loss', min_delta=0, patience=10, verbose=0, mode='auto', baseline=None, restore_best_weights=True)])"
   ]
  },
  {
   "cell_type": "code",
   "execution_count": 18,
   "metadata": {
    "scrolled": true
   },
   "outputs": [
    {
     "data": {
      "image/png": "[encoded data removed]",
      "text/plain": [
       "<Figure size 432x288 with 1 Axes>"
      ]
     },
     "metadata": {
      "needs_background": "light"
     },
     "output_type": "display_data"
    }
   ],
   "source": [
    "plt.plot(history.history['val_accuracy'])\n",
    "plt.plot(history.history['accuracy'])\n",
    "plt.show()"
   ]
  },
  {
   "cell_type": "code",
   "execution_count": null,
   "metadata": {},
   "outputs": [],
   "source": []
  },
  {
   "cell_type": "code",
   "execution_count": 4,
   "metadata": {},
   "outputs": [],
   "source": [
    "#bert - multilingual\n",
    "model = SentenceTransformer('distiluse-base-multilingual-cased')"
   ]
  },
  {
   "cell_type": "code",
   "execution_count": 5,
   "metadata": {},
   "outputs": [
    {
     "name": "stderr",
     "output_type": "stream",
     "text": [
      "Batches: 100%|██████████| 42/42 [17:18<00:00, 24.72s/it]\n"
     ]
    }
   ],
   "source": [
    "X_train = model.encode(X_train_original,show_progress_bar=True,batch_size=512)"
   ]
  },
  {
   "cell_type": "code",
   "execution_count": 13,
   "metadata": {},
   "outputs": [],
   "source": [
    "X_train = np.array(X_train)"
   ]
  },
  {
   "cell_type": "code",
   "execution_count": 6,
   "metadata": {},
   "outputs": [
    {
     "name": "stderr",
     "output_type": "stream",
     "text": [
      "Batches: 100%|██████████| 10/10 [03:49<00:00, 22.99s/it]\n"
     ]
    }
   ],
   "source": [
    "X_dev = model.encode(X_dev_original,show_progress_bar=True,batch_size=512)"
   ]
  },
  {
   "cell_type": "code",
   "execution_count": 14,
   "metadata": {},
   "outputs": [],
   "source": [
    "X_dev = np.array(X_dev)"
   ]
  },
  {
   "cell_type": "code",
   "execution_count": 15,
   "metadata": {},
   "outputs": [],
   "source": [
    "model = Sequential()\n",
    "# model.add(LSTM(10, dropout=0.2, recurrent_dropout=0.2,return_sequences=True))\n",
    "# model.add(LSTM(10, dropout=0.2, recurrent_dropout=0.2,return_sequences=False))\n",
    "model.add(Dense(512, activation='relu'))\n",
    "model.add(Dense(21, activation='softmax'))\n",
    "model.compile(loss='categorical_crossentropy', optimizer='adam', metrics=['accuracy'])"
   ]
  },
  {
   "cell_type": "code",
   "execution_count": 16,
   "metadata": {},
   "outputs": [
    {
     "name": "stdout",
     "output_type": "stream",
     "text": [
      "Train on 21000 samples, validate on 4957 samples\n",
      "Epoch 1/200\n",
      "21000/21000 [==============================] - 3s 128us/step - loss: 2.5095 - accuracy: 0.2609 - val_loss: 2.4338 - val_accuracy: 0.2895\n",
      "Epoch 2/200\n",
      "21000/21000 [==============================] - 2s 108us/step - loss: 2.3233 - accuracy: 0.3080 - val_loss: 2.4278 - val_accuracy: 0.2921\n",
      "Epoch 3/200\n",
      "21000/21000 [==============================] - 2s 108us/step - loss: 2.2321 - accuracy: 0.3331 - val_loss: 2.4180 - val_accuracy: 0.2988\n",
      "Epoch 4/200\n",
      "21000/21000 [==============================] - 2s 109us/step - loss: 2.1537 - accuracy: 0.3539 - val_loss: 2.4292 - val_accuracy: 0.2986\n",
      "Epoch 5/200\n",
      "21000/21000 [==============================] - 2s 111us/step - loss: 2.0788 - accuracy: 0.3732 - val_loss: 2.4447 - val_accuracy: 0.3036\n",
      "Epoch 6/200\n",
      "21000/21000 [==============================] - 2s 113us/step - loss: 2.0018 - accuracy: 0.3940 - val_loss: 2.4725 - val_accuracy: 0.2925\n",
      "Epoch 7/200\n",
      "21000/21000 [==============================] - 2s 111us/step - loss: 1.9242 - accuracy: 0.4162 - val_loss: 2.4917 - val_accuracy: 0.2935\n",
      "Epoch 8/200\n",
      "21000/21000 [==============================] - 2s 113us/step - loss: 1.8453 - accuracy: 0.4420 - val_loss: 2.5125 - val_accuracy: 0.2903\n",
      "Epoch 9/200\n",
      "21000/21000 [==============================] - 2s 116us/step - loss: 1.7628 - accuracy: 0.4683 - val_loss: 2.5479 - val_accuracy: 0.2863\n",
      "Epoch 10/200\n",
      "21000/21000 [==============================] - 2s 116us/step - loss: 1.6797 - accuracy: 0.4909 - val_loss: 2.5841 - val_accuracy: 0.2863\n",
      "Epoch 11/200\n",
      "21000/21000 [==============================] - 2s 113us/step - loss: 1.5962 - accuracy: 0.5228 - val_loss: 2.6247 - val_accuracy: 0.2877\n",
      "Epoch 12/200\n",
      "21000/21000 [==============================] - 2s 112us/step - loss: 1.5120 - accuracy: 0.5500 - val_loss: 2.6233 - val_accuracy: 0.2836\n",
      "Epoch 13/200\n",
      "21000/21000 [==============================] - 2s 113us/step - loss: 1.4248 - accuracy: 0.5851 - val_loss: 2.6660 - val_accuracy: 0.2784\n"
     ]
    }
   ],
   "source": [
    "history = model.fit(X_train,y_train,epochs=200,validation_data=(X_dev,y_dev),\n",
    "                   callbacks=[callbacks.EarlyStopping(monitor='val_loss', min_delta=0, patience=10, verbose=0, mode='auto', baseline=None, restore_best_weights=True)])"
   ]
  },
  {
   "cell_type": "code",
   "execution_count": 17,
   "metadata": {},
   "outputs": [
    {
     "data": {
      "image/png": "[encoded data removed]",
      "text/plain": [
       "<Figure size 432x288 with 1 Axes>"
      ]
     },
     "metadata": {
      "needs_background": "light"
     },
     "output_type": "display_data"
    }
   ],
   "source": [
    "plt.plot(history.history['val_accuracy'])\n",
    "plt.plot(history.history['accuracy'])\n",
    "plt.show()"
   ]
  },
  {
   "cell_type": "code",
   "execution_count": null,
   "metadata": {
    "scrolled": true
   },
   "outputs": [
    {
     "name": "stderr",
     "output_type": "stream",
     "text": [
      "/home/nikamanth/anaconda3/envs/torch/lib/python3.7/site-packages/ipykernel_launcher.py:10: TqdmDeprecationWarning: This function will be removed in tqdm==5.0.0\n",
      "Please use `tqdm.notebook.tqdm` instead of `tqdm.tqdm_notebook`\n",
      "  # Remove the CWD from sys.path while we load stuff.\n"
     ]
    },
    {
     "data": {
      "application/vnd.jupyter.widget-view+json": {
       "model_id": "c8c4df1d626b4bef9ecfc425e368f736",
       "version_major": 2,
       "version_minor": 0
      },
      "text/plain": [
       "HBox(children=(FloatProgress(value=0.0, max=21000.0), HTML(value='')))"
      ]
     },
     "metadata": {},
     "output_type": "display_data"
    }
   ],
   "source": [
    "#fasttext-arabic\n",
    "from tqdm import tqdm_notebook\n",
    "from nltk import word_tokenize\n",
    "from pymagnitude import *\n",
    "\n",
    "\n",
    "glove = Magnitude(\"../downloads/fasttext-arabic/fasttext-arabic.magnitude\")\n",
    "def avg_glove(x):\n",
    "    vectors = []\n",
    "    for title in tqdm_notebook(x):\n",
    "        vectors.append(np.average(glove.query(word_tokenize(title)), axis = 0))\n",
    "    return np.array(vectors)\n",
    "\n",
    "X_train = avg_glove(X_train_original)\n",
    "y_train = y_train_original\n",
    "X_dev = avg_glove(X_dev_original)\n",
    "y_dev = y_dev_original"
   ]
  },
  {
   "cell_type": "code",
   "execution_count": 6,
   "metadata": {},
   "outputs": [],
   "source": [
    "labels = {}\n",
    "uni = y_train_original.unique()\n",
    "for i in range(len(uni)):\n",
    "    labels[uni[i]] = i\n",
    "\n",
    "y_train_index = [labels[i] for i in y_train_original]\n",
    "y_dev_index = [labels[i] for i in y_dev_original]\n",
    "\n",
    "y_train = to_categorical(y_train_index, num_classes=21)\n",
    "y_dev = to_categorical(y_dev_index, num_classes=21)"
   ]
  },
  {
   "cell_type": "code",
   "execution_count": 8,
   "metadata": {},
   "outputs": [
    {
     "name": "stdout",
     "output_type": "stream",
     "text": [
      "Train on 21000 samples, validate on 4957 samples\n",
      "Epoch 1/30\n",
      "21000/21000 [==============================] - 2s 82us/step - loss: 2.3562 - accuracy: 0.3127 - f1_m: 0.1751 - val_loss: 2.2036 - val_accuracy: 0.3760 - val_f1_m: 0.2258\n",
      "Epoch 2/30\n",
      "21000/21000 [==============================] - 2s 75us/step - loss: 2.1291 - accuracy: 0.3746 - f1_m: 0.2535 - val_loss: 2.1416 - val_accuracy: 0.3932 - val_f1_m: 0.2488\n",
      "Epoch 3/30\n",
      "21000/21000 [==============================] - 2s 77us/step - loss: 2.0509 - accuracy: 0.3955 - f1_m: 0.2750 - val_loss: 2.1338 - val_accuracy: 0.3932 - val_f1_m: 0.2719\n",
      "Epoch 4/30\n",
      "21000/21000 [==============================] - 2s 77us/step - loss: 1.9972 - accuracy: 0.4101 - f1_m: 0.2886 - val_loss: 2.1257 - val_accuracy: 0.4000 - val_f1_m: 0.2892\n",
      "Epoch 5/30\n",
      "21000/21000 [==============================] - 2s 77us/step - loss: 1.9534 - accuracy: 0.4215 - f1_m: 0.3056 - val_loss: 2.1245 - val_accuracy: 0.4000 - val_f1_m: 0.2791\n",
      "Epoch 6/30\n",
      "21000/21000 [==============================] - 2s 77us/step - loss: 1.9137 - accuracy: 0.4332 - f1_m: 0.3202 - val_loss: 2.1226 - val_accuracy: 0.4061 - val_f1_m: 0.2918\n",
      "Epoch 7/30\n",
      "21000/21000 [==============================] - 2s 86us/step - loss: 1.8789 - accuracy: 0.4447 - f1_m: 0.3295 - val_loss: 2.1360 - val_accuracy: 0.3978 - val_f1_m: 0.3018\n",
      "Epoch 8/30\n",
      "21000/21000 [==============================] - 2s 80us/step - loss: 1.8448 - accuracy: 0.4501 - f1_m: 0.3414 - val_loss: 2.1400 - val_accuracy: 0.4013 - val_f1_m: 0.3067\n",
      "Epoch 9/30\n",
      "21000/21000 [==============================] - 2s 81us/step - loss: 1.8108 - accuracy: 0.4570 - f1_m: 0.3512 - val_loss: 2.1627 - val_accuracy: 0.3950 - val_f1_m: 0.3109\n",
      "Epoch 10/30\n",
      "21000/21000 [==============================] - 2s 82us/step - loss: 1.7807 - accuracy: 0.4675 - f1_m: 0.3590 - val_loss: 2.1403 - val_accuracy: 0.4081 - val_f1_m: 0.3252\n",
      "Epoch 11/30\n",
      "21000/21000 [==============================] - 2s 78us/step - loss: 1.7481 - accuracy: 0.4767 - f1_m: 0.3707 - val_loss: 2.1536 - val_accuracy: 0.3952 - val_f1_m: 0.3118\n",
      "Epoch 12/30\n",
      "21000/21000 [==============================] - 2s 79us/step - loss: 1.7163 - accuracy: 0.4853 - f1_m: 0.3801 - val_loss: 2.1736 - val_accuracy: 0.3982 - val_f1_m: 0.3232\n",
      "Epoch 13/30\n",
      "21000/21000 [==============================] - 2s 79us/step - loss: 1.6844 - accuracy: 0.4974 - f1_m: 0.3921 - val_loss: 2.1839 - val_accuracy: 0.4000 - val_f1_m: 0.3382\n",
      "Epoch 14/30\n",
      "21000/21000 [==============================] - 2s 85us/step - loss: 1.6547 - accuracy: 0.5047 - f1_m: 0.3982 - val_loss: 2.2014 - val_accuracy: 0.3994 - val_f1_m: 0.3394\n",
      "Epoch 15/30\n",
      "21000/21000 [==============================] - 2s 79us/step - loss: 1.6242 - accuracy: 0.5136 - f1_m: 0.4111 - val_loss: 2.2071 - val_accuracy: 0.3855 - val_f1_m: 0.3180\n",
      "Epoch 16/30\n",
      "21000/21000 [==============================] - 2s 83us/step - loss: 1.5932 - accuracy: 0.5246 - f1_m: 0.4198 - val_loss: 2.2119 - val_accuracy: 0.3988 - val_f1_m: 0.3376\n"
     ]
    }
   ],
   "source": [
    "model = Sequential()\n",
    "# model.add(LSTM(100, dropout=0.2, recurrent_dropout=0.2,return_sequences=True))\n",
    "# model.add(LSTM(100, dropout=0.2, recurrent_dropout=0.2,return_sequences=False))\n",
    "model.add(Dense(512, activation='relu'))\n",
    "model.add(Dense(21, activation='softmax'))\n",
    "model.compile(loss='categorical_crossentropy', optimizer='adam', metrics=['accuracy',f1_m])\n",
    "history = model.fit(X_train,y_train,epochs=30,validation_data=(X_dev,y_dev),\n",
    "                   callbacks=[callbacks.EarlyStopping(monitor='val_loss', min_delta=0, patience=10, verbose=0, mode='auto', baseline=None, restore_best_weights=True)])"
   ]
  },
  {
   "cell_type": "code",
   "execution_count": 8,
   "metadata": {},
   "outputs": [
    {
     "data": {
      "image/png": "[encoded data removed]",
      "text/plain": [
       "<Figure size 432x288 with 1 Axes>"
      ]
     },
     "metadata": {
      "needs_background": "light"
     },
     "output_type": "display_data"
    }
   ],
   "source": [
    "plt.plot(history.history['val_accuracy'])\n",
    "plt.plot(history.history['accuracy'])\n",
    "plt.show()"
   ]
  },
  {
   "cell_type": "code",
   "execution_count": null,
   "metadata": {},
   "outputs": [],
   "source": []
  }
 ],
 "metadata": {
  "kernelspec": {
   "display_name": "Python 3",
   "language": "python",
   "name": "python3"
  },
  "language_info": {
   "codemirror_mode": {
    "name": "ipython",
    "version": 3
   },
   "file_extension": ".py",
   "mimetype": "text/x-python",
   "name": "python",
   "nbconvert_exporter": "python",
   "pygments_lexer": "ipython3",
   "version": "3.7.7"
  }
 },
 "nbformat": 4,
 "nbformat_minor": 4
}
