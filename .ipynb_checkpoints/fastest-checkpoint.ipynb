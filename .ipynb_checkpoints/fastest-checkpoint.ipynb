{
 "cells": [
  {
   "cell_type": "code",
   "execution_count": 1,
   "metadata": {},
   "outputs": [
    {
     "name": "stderr",
     "output_type": "stream",
     "text": [
      "/home/nikamanth/.local/lib/python3.7/site-packages/tensorflow/python/framework/dtypes.py:516: FutureWarning: Passing (type, 1) or '1type' as a synonym of type is deprecated; in a future version of numpy, it will be understood as (type, (1,)) / '(1,)type'.\n",
      "  _np_qint8 = np.dtype([(\"qint8\", np.int8, 1)])\n",
      "/home/nikamanth/.local/lib/python3.7/site-packages/tensorflow/python/framework/dtypes.py:517: FutureWarning: Passing (type, 1) or '1type' as a synonym of type is deprecated; in a future version of numpy, it will be understood as (type, (1,)) / '(1,)type'.\n",
      "  _np_quint8 = np.dtype([(\"quint8\", np.uint8, 1)])\n",
      "/home/nikamanth/.local/lib/python3.7/site-packages/tensorflow/python/framework/dtypes.py:518: FutureWarning: Passing (type, 1) or '1type' as a synonym of type is deprecated; in a future version of numpy, it will be understood as (type, (1,)) / '(1,)type'.\n",
      "  _np_qint16 = np.dtype([(\"qint16\", np.int16, 1)])\n",
      "/home/nikamanth/.local/lib/python3.7/site-packages/tensorflow/python/framework/dtypes.py:519: FutureWarning: Passing (type, 1) or '1type' as a synonym of type is deprecated; in a future version of numpy, it will be understood as (type, (1,)) / '(1,)type'.\n",
      "  _np_quint16 = np.dtype([(\"quint16\", np.uint16, 1)])\n",
      "/home/nikamanth/.local/lib/python3.7/site-packages/tensorflow/python/framework/dtypes.py:520: FutureWarning: Passing (type, 1) or '1type' as a synonym of type is deprecated; in a future version of numpy, it will be understood as (type, (1,)) / '(1,)type'.\n",
      "  _np_qint32 = np.dtype([(\"qint32\", np.int32, 1)])\n",
      "/home/nikamanth/.local/lib/python3.7/site-packages/tensorflow/python/framework/dtypes.py:525: FutureWarning: Passing (type, 1) or '1type' as a synonym of type is deprecated; in a future version of numpy, it will be understood as (type, (1,)) / '(1,)type'.\n",
      "  np_resource = np.dtype([(\"resource\", np.ubyte, 1)])\n",
      "/home/nikamanth/.local/lib/python3.7/site-packages/tensorboard/compat/tensorflow_stub/dtypes.py:541: FutureWarning: Passing (type, 1) or '1type' as a synonym of type is deprecated; in a future version of numpy, it will be understood as (type, (1,)) / '(1,)type'.\n",
      "  _np_qint8 = np.dtype([(\"qint8\", np.int8, 1)])\n",
      "/home/nikamanth/.local/lib/python3.7/site-packages/tensorboard/compat/tensorflow_stub/dtypes.py:542: FutureWarning: Passing (type, 1) or '1type' as a synonym of type is deprecated; in a future version of numpy, it will be understood as (type, (1,)) / '(1,)type'.\n",
      "  _np_quint8 = np.dtype([(\"quint8\", np.uint8, 1)])\n",
      "/home/nikamanth/.local/lib/python3.7/site-packages/tensorboard/compat/tensorflow_stub/dtypes.py:543: FutureWarning: Passing (type, 1) or '1type' as a synonym of type is deprecated; in a future version of numpy, it will be understood as (type, (1,)) / '(1,)type'.\n",
      "  _np_qint16 = np.dtype([(\"qint16\", np.int16, 1)])\n",
      "/home/nikamanth/.local/lib/python3.7/site-packages/tensorboard/compat/tensorflow_stub/dtypes.py:544: FutureWarning: Passing (type, 1) or '1type' as a synonym of type is deprecated; in a future version of numpy, it will be understood as (type, (1,)) / '(1,)type'.\n",
      "  _np_quint16 = np.dtype([(\"quint16\", np.uint16, 1)])\n",
      "/home/nikamanth/.local/lib/python3.7/site-packages/tensorboard/compat/tensorflow_stub/dtypes.py:545: FutureWarning: Passing (type, 1) or '1type' as a synonym of type is deprecated; in a future version of numpy, it will be understood as (type, (1,)) / '(1,)type'.\n",
      "  _np_qint32 = np.dtype([(\"qint32\", np.int32, 1)])\n",
      "/home/nikamanth/.local/lib/python3.7/site-packages/tensorboard/compat/tensorflow_stub/dtypes.py:550: FutureWarning: Passing (type, 1) or '1type' as a synonym of type is deprecated; in a future version of numpy, it will be understood as (type, (1,)) / '(1,)type'.\n",
      "  np_resource = np.dtype([(\"resource\", np.ubyte, 1)])\n"
     ]
    }
   ],
   "source": [
    "import numpy as np\n",
    "import pandas as pd\n",
    "import os\n",
    "import torch\n",
    "import matplotlib.pyplot as plt\n",
    "from torch.utils.data import Dataset, DataLoader\n",
    "from torch.nn import Linear,Softmax,CrossEntropyLoss,Module,ReLU,DataParallel,Sequential\n",
    "from torch.optim import Adam, SGD\n",
    "from tqdm import tqdm_notebook\n",
    "from nltk import word_tokenize\n",
    "from pymagnitude import *\n",
    "from sklearn.metrics import accuracy_score, f1_score\n",
    "from tqdm import tqdm\n",
    "from time import time\n",
    "from sentence_transformers import SentenceTransformer\n",
    "import re\n",
    "\n",
    "import warnings\n",
    "warnings.filterwarnings('ignore')\n",
    "\n",
    "device = 'cuda:0'"
   ]
  },
  {
   "cell_type": "code",
   "execution_count": 2,
   "metadata": {},
   "outputs": [],
   "source": [
    "train_df = pd.read_csv('../NADI-2020_release_1.0/NADI_release/train_labeled.tsv','\\t')\n",
    "dev_df = pd.read_csv('../NADI-2020_release_1.0/NADI_release/dev_labeled.tsv',sep='\\t')"
   ]
  },
  {
   "cell_type": "code",
   "execution_count": 3,
   "metadata": {},
   "outputs": [],
   "source": [
    "label_map = {}\n",
    "y_train_original = train_df[\"#3 country_label\"]\n",
    "for u in range(len(y_train_original.unique())):\n",
    "    label_map[y_train_original.unique()[u]] = int(u)\n",
    "reverse_label_map = {value : key for (key, value) in label_map.items()}\n",
    "def label_onehot(label):\n",
    "    onehot = np.zeros((21))\n",
    "    index = label_map[label]\n",
    "    onehot[index] = 1\n",
    "    return onehot"
   ]
  },
  {
   "cell_type": "code",
   "execution_count": 4,
   "metadata": {},
   "outputs": [],
   "source": [
    "fast = Magnitude(\"../downloads/fasttext-arabic/fasttext-arabic.magnitude\")\n",
    "def fasttext(x):\n",
    "    vectors = []\n",
    "    for title in x:\n",
    "        vectors.append(np.average(fast.query(word_tokenize(title)), axis = 0))\n",
    "    return np.array(vectors)"
   ]
  },
  {
   "cell_type": "code",
   "execution_count": 67,
   "metadata": {},
   "outputs": [],
   "source": [
    "class ArabicDataset(Dataset):\n",
    "    def __init__(self, csv_file=None, million_csv=None, transform=None):\n",
    "        fast = Magnitude(\"../downloads/fasttext-arabic/fasttext-arabic.magnitude\")\n",
    "        def transform(x):\n",
    "            vectors = []\n",
    "            for title in tqdm(x):\n",
    "                vectors.append(np.average(fast.query(word_tokenize(str(title))), axis = 0))\n",
    "            return np.array(vectors)\n",
    "        bert = SentenceTransformer('distiluse-base-multilingual-cased',device=device)\n",
    "        def berttext(x):\n",
    "            return bert.encode(x,show_progress_bar=False,\n",
    "                                          batch_size=1000)\n",
    "        \n",
    "        self.csv_file = csv_file\n",
    "        if csv_file:         \n",
    "            if million_csv:\n",
    "                self.text_df = pd.concat([pd.read_csv(csv_file, sep='\\t'),\n",
    "                                         pd.read_csv(million_csv, sep='\\t')])\n",
    "            else:\n",
    "                self.text_df = pd.read_csv(csv_file,sep='\\t')\n",
    "        else:\n",
    "            self.text_df = pd.read_csv(million_csv,sep='\\t')\n",
    "#         self.berttext_data = np.array(berttext(self.text_df['#2 tweet_content']))\n",
    "        self.fasttext_data = transform(self.text_df['#2 tweet_content'])\n",
    "#         self.combined_data = np.hstack([self.fasttext_data, self.berttext_data])\n",
    "    def __len__(self):\n",
    "        return len(self.text_df)\n",
    "    def __getitem__(self, idx):\n",
    "        if torch.is_tensor(idx):\n",
    "            idx = idx.tolist()\n",
    "        text = self.fasttext_data[idx]\n",
    "#         text = fasttext([text]).reshape((300))\n",
    "        if self.csv_file:\n",
    "            label = self.text_df.iloc[idx]['#3 country_label']\n",
    "            label = label_onehot(label)\n",
    "            sample = {'text': text, \n",
    "                      'label': torch.from_numpy(label).to(device)}\n",
    "        else:\n",
    "            sample = {'text':text}\n",
    "        return sample"
   ]
  },
  {
   "cell_type": "code",
   "execution_count": 68,
   "metadata": {},
   "outputs": [],
   "source": [
    "class TuningNet(Module):\n",
    "    def __init__(self, D_in, H,D_out):\n",
    "        super(TuningNet, self).__init__()\n",
    "        self.linear1 = torch.nn.Linear(D_in, H)\n",
    "        self.relu = ReLU()\n",
    "#         self.linear1_1 = torch.nn.Linear(H, H)\n",
    "#         self.relu2 = ReLU()\n",
    "        self.linear2 = torch.nn.Linear(H, D_out)\n",
    "        self.softmax = Softmax(dim=1)\n",
    "\n",
    "    def forward(self, x):\n",
    "        x = self.linear1(x)\n",
    "        x = self.relu(x)\n",
    "#         x = self.linear1_1(x)\n",
    "#         x = self.relu2(x)\n",
    "        x = self.linear2(x)\n",
    "        y_pred = self.softmax(x)\n",
    "        return y_pred"
   ]
  },
  {
   "cell_type": "code",
   "execution_count": 75,
   "metadata": {},
   "outputs": [],
   "source": [
    "train_csv_path = '../tsv/task1-lvl2-2000_train.tsv'\n",
    "dev_csv_path = '../tsv/final/dev_for_pytorch.tsv'\n",
    "million_csv_path = '../semi_supervised_train/tsv_iters/iter1.tsv'\n",
    "num_of_epochs = 50\n",
    "learning_rate = 0.001\n",
    "model = TuningNet(300,512,21).to(device)\n",
    "train_batch_size = 32"
   ]
  },
  {
   "cell_type": "code",
   "execution_count": 70,
   "metadata": {},
   "outputs": [],
   "source": [
    "learning_rate=0.01"
   ]
  },
  {
   "cell_type": "code",
   "execution_count": 71,
   "metadata": {},
   "outputs": [],
   "source": [
    "model1 = torch.load('../semi-supervised_train/models/task1-sgd-lvl2-2000.pt').to(device)\n",
    "model2 = torch.load('../semi-supervised_train/models/task1-sgd.pt').to(device)"
   ]
  },
  {
   "cell_type": "code",
   "execution_count": 76,
   "metadata": {
    "scrolled": true
   },
   "outputs": [
    {
     "name": "stderr",
     "output_type": "stream",
     "text": [
      "100%|██████████| 135933/135933 [11:53<00:00, 190.44it/s]\n"
     ]
    }
   ],
   "source": [
    "traindataset = ArabicDataset(train_csv_path) #,million_csv_path)"
   ]
  },
  {
   "cell_type": "code",
   "execution_count": 77,
   "metadata": {},
   "outputs": [
    {
     "name": "stderr",
     "output_type": "stream",
     "text": [
      "100%|██████████| 4957/4957 [00:55<00:00, 88.83it/s] \n"
     ]
    }
   ],
   "source": [
    "trainloader = DataLoader(traindataset, batch_size=32,\n",
    "                        shuffle=True)\n",
    "# testloader = DataLoader(traindataset, batch_size=1000)\n",
    "devdataset = ArabicDataset(dev_csv_path)\n",
    "devloader = DataLoader(devdataset, batch_size=1000)"
   ]
  },
  {
   "cell_type": "code",
   "execution_count": 79,
   "metadata": {
    "scrolled": true
   },
   "outputs": [
    {
     "name": "stdout",
     "output_type": "stream",
     "text": [
      "torch.Size([1000, 21])\n",
      "torch.Size([1000, 21])\n",
      "torch.Size([1000, 21])\n",
      "torch.Size([1000, 21])\n",
      "torch.Size([1000, 21])\n",
      "torch.Size([1000, 21])\n",
      "torch.Size([1000, 21])\n",
      "torch.Size([1000, 21])\n",
      "torch.Size([957, 21])\n",
      "torch.Size([957, 21])\n",
      "dev acc: 0.36614888037119225 training f1_score: 0.2223585279304462\n"
     ]
    }
   ],
   "source": [
    "criterian = CrossEntropyLoss().to(device)\n",
    "# optimizer = SGD(model.parameters(), lr=learning_rate,momentum=0.9,nesterov=True)\n",
    "optimizer = Adam(model.parameters(), lr=learning_rate)\n",
    "train_f1 = []\n",
    "dev_f1 = []\n",
    "y_pred = []\n",
    "y_true = []\n",
    "num_of_epochs=1\n",
    "for epoch in range(num_of_epochs):\n",
    "#     i_batch = 0\n",
    "#     print(\"epoch:\",epoch)\n",
    "#     for batch in tqdm(trainloader):\n",
    "#         i_batch +=1\n",
    "#         output = model(batch['text'].to(device))\n",
    "#         loss = criterian(output,batch['label'].argmax(dim=1))\n",
    "#         optimizer.zero_grad()\n",
    "#         loss.backward()\n",
    "#         optimizer.step()\n",
    "#         y_pred += list(output.argmax(dim=1).detach().cpu().numpy())\n",
    "#         y_true += list(batch['label'].argmax(dim=1).detach().cpu().numpy()) \n",
    "#     print(\"training acc:\",accuracy_score(y_pred,y_true),end=' ')\n",
    "#     f1 = f1_score(y_pred,y_true,average='macro')\n",
    "#     train_f1.append(f1)\n",
    "#     print(\"training f1_score:\", f1)\n",
    "    \n",
    "    \n",
    "    y_pred = []\n",
    "    y_true = []\n",
    "    for batch in devloader:\n",
    "        output1 = model1(batch['text'].to(device))\n",
    "        output2 = model2(batch['text'].to(device))\n",
    "        print(output1.shape)\n",
    "        # averaging\n",
    "        output = (output1+output2)/2\n",
    "        print(output.shape)\n",
    "        y_pred += list(output.argmax(dim=1).detach().cpu().numpy())\n",
    "        y_true += list(batch['label'].argmax(dim=1).detach().cpu().numpy())\n",
    "    print(\"dev acc:\",accuracy_score(y_pred,y_true),end=' ')\n",
    "    f1 = f1_score(y_pred,y_true,average='macro')\n",
    "    dev_f1.append(f1)\n",
    "    print(\"training f1_score:\", f1)"
   ]
  },
  {
   "cell_type": "code",
   "execution_count": 33,
   "metadata": {},
   "outputs": [],
   "source": [
    "# torch.save(model,'../semi-supervised_train/models/task1-sgd-lvl2-2000-improve.pt')"
   ]
  },
  {
   "cell_type": "code",
   "execution_count": 25,
   "metadata": {},
   "outputs": [],
   "source": [
    "# model = torch.load('../semi-supervised_train/models/fastest.pt').to(device)"
   ]
  },
  {
   "cell_type": "code",
   "execution_count": null,
   "metadata": {},
   "outputs": [],
   "source": []
  },
  {
   "cell_type": "code",
   "execution_count": null,
   "metadata": {},
   "outputs": [],
   "source": []
  }
 ],
 "metadata": {
  "kernelspec": {
   "display_name": "Python 3",
   "language": "python",
   "name": "python3"
  },
  "language_info": {
   "codemirror_mode": {
    "name": "ipython",
    "version": 3
   },
   "file_extension": ".py",
   "mimetype": "text/x-python",
   "name": "python",
   "nbconvert_exporter": "python",
   "pygments_lexer": "ipython3",
   "version": "3.7.7"
  }
 },
 "nbformat": 4,
 "nbformat_minor": 4
}
