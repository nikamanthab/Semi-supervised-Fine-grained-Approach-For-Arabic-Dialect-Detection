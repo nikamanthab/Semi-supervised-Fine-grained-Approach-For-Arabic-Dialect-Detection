{
 "cells": [
  {
   "cell_type": "code",
   "execution_count": 1,
   "metadata": {},
   "outputs": [
    {
     "name": "stderr",
     "output_type": "stream",
     "text": [
      "Using TensorFlow backend.\n"
     ]
    }
   ],
   "source": [
    "import matplotlib.pyplot as plt\n",
    "import pandas as pd\n",
    "from keras.models import Sequential\n",
    "from keras.layers import Dense, LSTM\n",
    "from tqdm.notebook import tqdm\n",
    "from keras.utils import to_categorical\n",
    "import gensim\n",
    "import numpy as np\n",
    "from keras.callbacks import callbacks\n",
    "from sentence_transformers import SentenceTransformer"
   ]
  },
  {
   "cell_type": "code",
   "execution_count": 2,
   "metadata": {},
   "outputs": [],
   "source": [
    "from keras import backend as K\n",
    "\n",
    "def recall_m(y_true, y_pred):\n",
    "    true_positives = K.sum(K.round(K.clip(y_true * y_pred, 0, 1)))\n",
    "    possible_positives = K.sum(K.round(K.clip(y_true, 0, 1)))\n",
    "    recall = true_positives / (possible_positives + K.epsilon())\n",
    "    return recall\n",
    "\n",
    "def precision_m(y_true, y_pred):\n",
    "    true_positives = K.sum(K.round(K.clip(y_true * y_pred, 0, 1)))\n",
    "    predicted_positives = K.sum(K.round(K.clip(y_pred, 0, 1)))\n",
    "    precision = true_positives / (predicted_positives + K.epsilon())\n",
    "    return precision\n",
    "\n",
    "def f1_m(y_true, y_pred):\n",
    "    precision = precision_m(y_true, y_pred)\n",
    "    recall = recall_m(y_true, y_pred)\n",
    "    return 2*((precision*recall)/(precision+recall+K.epsilon()))"
   ]
  },
  {
   "cell_type": "code",
   "execution_count": 6,
   "metadata": {},
   "outputs": [],
   "source": [
    "#aravec\n",
    "t_model = gensim.models.Word2Vec.load(\n",
    "    '../downloads/aravec/full_uni_cbow_100_twitter/full_uni_cbow_100_twitter.mdl')"
   ]
  },
  {
   "cell_type": "code",
   "execution_count": 3,
   "metadata": {},
   "outputs": [],
   "source": [
    "train_df = pd.read_csv('../NADI-2020_release_1.0/NADI_release/train_labeled.tsv',sep='\\t')\n",
    "dev_df = pd.read_csv('../NADI-2020_release_1.0/NADI_release/dev_labeled.tsv',sep='\\t')\n",
    "\n",
    "X_train_original,y_train_original = train_df[\"#2 tweet_content\"],train_df[\"#3 country_label\"]\n",
    "X_dev_original,y_dev_original = dev_df[\"#2 tweet_content\"],dev_df[\"#3 country_label\"]"
   ]
  },
  {
   "cell_type": "code",
   "execution_count": 4,
   "metadata": {},
   "outputs": [],
   "source": [
    "labels = {}\n",
    "uni = y_train_original.unique()\n",
    "for i in range(len(uni)):\n",
    "    labels[uni[i]] = i\n",
    "\n",
    "y_train_index = [labels[i] for i in y_train_original]\n",
    "y_dev_index = [labels[i] for i in y_dev_original]\n",
    "\n",
    "y_train = to_categorical(y_train_index, num_classes=21)\n",
    "y_dev = to_categorical(y_dev_index, num_classes=21)"
   ]
  },
  {
   "cell_type": "code",
   "execution_count": 7,
   "metadata": {},
   "outputs": [],
   "source": [
    "X_noov = []\n",
    "for sentence in X_train_original:\n",
    "    sentence = sentence.split(' ')\n",
    "    new_sentence = []\n",
    "    for word in sentence:\n",
    "        if word in t_model.wv.vocab:\n",
    "            new_sentence.append(word)\n",
    "    X_noov.append(new_sentence)\n",
    "X_noov_dev = []\n",
    "for sentence in X_dev_original:\n",
    "    sentence = sentence.split(' ')\n",
    "    new_sentence = []\n",
    "    for word in sentence:\n",
    "        if word in t_model.wv.vocab:\n",
    "            new_sentence.append(word)\n",
    "    X_noov_dev.append(new_sentence)"
   ]
  },
  {
   "cell_type": "code",
   "execution_count": 11,
   "metadata": {},
   "outputs": [],
   "source": [
    "X_train = []\n",
    "counter = 0\n",
    "for one_vec in X_noov:\n",
    "    if one_vec == []:\n",
    "        counter += 1\n",
    "        one_vec = ['ومايشوف']\n",
    "    word_vector = t_model.wv[ one_vec ]\n",
    "#     word_vector = np.sum(word_vector,axis=0)\n",
    "    word_vector = np.pad(word_vector,pad_width=((0,100-word_vector.shape[0]),(0,0)))\n",
    "    X_train.append(word_vector)\n",
    "\n",
    "X_dev = []\n",
    "counter = 0\n",
    "for one_vec in X_noov_dev:\n",
    "    if one_vec == []:\n",
    "        counter += 1\n",
    "        one_vec = ['ومايشوف']\n",
    "    word_vector = t_model.wv[ one_vec ]\n",
    "#     word_vector = np.sum(word_vector,axis=0)\n",
    "    word_vector = np.pad(word_vector,pad_width=((0,100-word_vector.shape[0]),(0,0)))\n",
    "    X_dev.append(word_vector)"
   ]
  },
  {
   "cell_type": "code",
   "execution_count": null,
   "metadata": {},
   "outputs": [],
   "source": [
    "X_train = np.array(X_train)\n",
    "X_dev = np.array(X_dev)"
   ]
  },
  {
   "cell_type": "code",
   "execution_count": null,
   "metadata": {},
   "outputs": [],
   "source": [
    "X_train.shape"
   ]
  },
  {
   "cell_type": "code",
   "execution_count": 8,
   "metadata": {},
   "outputs": [],
   "source": [
    "model = Sequential()\n",
    "model.add(LSTM(10, dropout=0.2, recurrent_dropout=0.2,return_sequences=True))\n",
    "model.add(LSTM(10, dropout=0.2, recurrent_dropout=0.2,return_sequences=False))\n",
    "# model.add(Dense(512, activation='relu'))\n",
    "model.add(Dense(21, activation='softmax'))\n",
    "model.compile(loss='categorical_crossentropy', optimizer='adam', metrics=['accuracy'])"
   ]
  },
  {
   "cell_type": "code",
   "execution_count": 9,
   "metadata": {
    "scrolled": true
   },
   "outputs": [
    {
     "ename": "NameError",
     "evalue": "name 'X_train' is not defined",
     "output_type": "error",
     "traceback": [
      "\u001b[0;31m---------------------------------------------------------------------------\u001b[0m",
      "\u001b[0;31mNameError\u001b[0m                                 Traceback (most recent call last)",
      "\u001b[0;32m<ipython-input-9-e122dda2037f>\u001b[0m in \u001b[0;36m<module>\u001b[0;34m\u001b[0m\n\u001b[0;32m----> 1\u001b[0;31m history = model.fit(X_train,y_train,epochs=200,validation_data=(X_dev,y_dev),\n\u001b[0m\u001b[1;32m      2\u001b[0m                    callbacks=[callbacks.EarlyStopping(monitor='val_loss', min_delta=0, patience=5, verbose=0, mode='auto', baseline=None, restore_best_weights=True)])\n",
      "\u001b[0;31mNameError\u001b[0m: name 'X_train' is not defined"
     ]
    }
   ],
   "source": [
    "history = model.fit(X_train,y_train,epochs=200,validation_data=(X_dev,y_dev),\n",
    "                   callbacks=[callbacks.EarlyStopping(monitor='val_loss', min_delta=0, patience=5, verbose=0, mode='auto', baseline=None, restore_best_weights=True)])"
   ]
  },
  {
   "cell_type": "code",
   "execution_count": 12,
   "metadata": {},
   "outputs": [
    {
     "data": {
      "image/png": "[encoded data removed]",
      "text/plain": [
       "<Figure size 432x288 with 1 Axes>"
      ]
     },
     "metadata": {
      "needs_background": "light"
     },
     "output_type": "display_data"
    }
   ],
   "source": [
    "plt.plot(history.history['val_accuracy'])\n",
    "plt.plot(history.history['accuracy'])\n",
    "plt.show()"
   ]
  },
  {
   "cell_type": "code",
   "execution_count": null,
   "metadata": {},
   "outputs": [],
   "source": []
  },
  {
   "cell_type": "code",
   "execution_count": 13,
   "metadata": {},
   "outputs": [],
   "source": [
    "X_train = []\n",
    "counter = 0\n",
    "for one_vec in X_noov:\n",
    "    if one_vec == []:\n",
    "        counter += 1\n",
    "        one_vec = ['ومايشوف']\n",
    "    word_vector = t_model.wv[ one_vec ]\n",
    "    word_vector = np.sum(word_vector,axis=0)\n",
    "#     word_vector = np.pad(word_vector,pad_width=((0,100-word_vector.shape[0]),(0,0)))\n",
    "    X_train.append(word_vector)\n",
    "\n",
    "X_dev = []\n",
    "counter = 0\n",
    "for one_vec in X_noov_dev:\n",
    "    if one_vec == []:\n",
    "        counter += 1\n",
    "        one_vec = ['ومايشوف']\n",
    "    word_vector = t_model.wv[ one_vec ]\n",
    "    word_vector = np.sum(word_vector,axis=0)\n",
    "#     word_vector = np.pad(word_vector,pad_width=((0,100-word_vector.shape[0]),(0,0)))\n",
    "    X_dev.append(word_vector)"
   ]
  },
  {
   "cell_type": "code",
   "execution_count": 14,
   "metadata": {},
   "outputs": [],
   "source": [
    "X_train = np.array(X_train)\n",
    "X_dev = np.array(X_dev)"
   ]
  },
  {
   "cell_type": "code",
   "execution_count": 15,
   "metadata": {},
   "outputs": [
    {
     "data": {
      "text/plain": [
       "(21000, 100)"
      ]
     },
     "execution_count": 15,
     "metadata": {},
     "output_type": "execute_result"
    }
   ],
   "source": [
    "X_train.shape"
   ]
  },
  {
   "cell_type": "code",
   "execution_count": 16,
   "metadata": {},
   "outputs": [],
   "source": [
    "model = Sequential()\n",
    "# model.add(LSTM(10, dropout=0.2, recurrent_dropout=0.2,return_sequences=True))\n",
    "# model.add(LSTM(10, dropout=0.2, recurrent_dropout=0.2,return_sequences=False))\n",
    "model.add(Dense(512, activation='relu'))\n",
    "model.add(Dense(21, activation='softmax'))\n",
    "model.compile(loss='categorical_crossentropy', optimizer='adam', metrics=['accuracy'])"
   ]
  },
  {
   "cell_type": "code",
   "execution_count": 17,
   "metadata": {},
   "outputs": [
    {
     "name": "stdout",
     "output_type": "stream",
     "text": [
      "Train on 21000 samples, validate on 4957 samples\n",
      "Epoch 1/200\n",
      "21000/21000 [==============================] - 1s 57us/step - loss: 3.4226 - accuracy: 0.2509 - val_loss: 2.6937 - val_accuracy: 0.2857\n",
      "Epoch 2/200\n",
      "21000/21000 [==============================] - 1s 48us/step - loss: 2.3935 - accuracy: 0.3243 - val_loss: 2.5883 - val_accuracy: 0.3000\n",
      "Epoch 3/200\n",
      "21000/21000 [==============================] - 1s 49us/step - loss: 2.2147 - accuracy: 0.3562 - val_loss: 2.5878 - val_accuracy: 0.3048\n",
      "Epoch 4/200\n",
      "21000/21000 [==============================] - 1s 49us/step - loss: 2.1042 - accuracy: 0.3798 - val_loss: 2.6184 - val_accuracy: 0.2996\n",
      "Epoch 5/200\n",
      "21000/21000 [==============================] - 1s 49us/step - loss: 2.0200 - accuracy: 0.3985 - val_loss: 2.6800 - val_accuracy: 0.2951\n",
      "Epoch 6/200\n",
      "21000/21000 [==============================] - 1s 49us/step - loss: 1.9504 - accuracy: 0.4192 - val_loss: 2.7176 - val_accuracy: 0.3002\n",
      "Epoch 7/200\n",
      "21000/21000 [==============================] - 1s 50us/step - loss: 1.8706 - accuracy: 0.4353 - val_loss: 2.7991 - val_accuracy: 0.2998\n",
      "Epoch 8/200\n",
      "21000/21000 [==============================] - 1s 50us/step - loss: 1.8027 - accuracy: 0.4580 - val_loss: 2.8692 - val_accuracy: 0.2966\n",
      "Epoch 9/200\n",
      "21000/21000 [==============================] - 1s 49us/step - loss: 1.7323 - accuracy: 0.4758 - val_loss: 2.9255 - val_accuracy: 0.3014\n",
      "Epoch 10/200\n",
      "21000/21000 [==============================] - 1s 49us/step - loss: 1.6533 - accuracy: 0.5000 - val_loss: 3.1106 - val_accuracy: 0.2824\n",
      "Epoch 11/200\n",
      "21000/21000 [==============================] - 1s 49us/step - loss: 1.5877 - accuracy: 0.5173 - val_loss: 3.2007 - val_accuracy: 0.3018\n",
      "Epoch 12/200\n",
      "21000/21000 [==============================] - 1s 49us/step - loss: 1.5326 - accuracy: 0.5339 - val_loss: 3.2787 - val_accuracy: 0.2883\n",
      "Epoch 13/200\n",
      "21000/21000 [==============================] - 1s 49us/step - loss: 1.4528 - accuracy: 0.5580 - val_loss: 3.3864 - val_accuracy: 0.2729\n"
     ]
    }
   ],
   "source": [
    "history = model.fit(X_train,y_train,epochs=200,validation_data=(X_dev,y_dev),\n",
    "                   callbacks=[callbacks.EarlyStopping(monitor='val_loss', min_delta=0, patience=10, verbose=0, mode='auto', baseline=None, restore_best_weights=True)])"
   ]
  },
  {
   "cell_type": "code",
   "execution_count": 18,
   "metadata": {
    "scrolled": true
   },
   "outputs": [
    {
     "data": {
      "image/png": "[encoded data removed]",
      "text/plain": [
       "<Figure size 432x288 with 1 Axes>"
      ]
     },
     "metadata": {
      "needs_background": "light"
     },
     "output_type": "display_data"
    }
   ],
   "source": [
    "plt.plot(history.history['val_accuracy'])\n",
    "plt.plot(history.history['accuracy'])\n",
    "plt.show()"
   ]
  },
  {
   "cell_type": "code",
   "execution_count": null,
   "metadata": {},
   "outputs": [],
   "source": []
  },
  {
   "cell_type": "code",
   "execution_count": 5,
   "metadata": {},
   "outputs": [
    {
     "ename": "RuntimeError",
     "evalue": "CUDA out of memory. Tried to allocate 352.00 MiB (GPU 0; 1.96 GiB total capacity; 0 bytes already allocated; 272.75 MiB free; 0 bytes reserved in total by PyTorch)",
     "output_type": "error",
     "traceback": [
      "\u001b[0;31m---------------------------------------------------------------------------\u001b[0m",
      "\u001b[0;31mRuntimeError\u001b[0m                              Traceback (most recent call last)",
      "\u001b[0;32m<ipython-input-5-ec6a6f6c368c>\u001b[0m in \u001b[0;36m<module>\u001b[0;34m\u001b[0m\n\u001b[1;32m      1\u001b[0m \u001b[0;31m#bert - multilingual\u001b[0m\u001b[0;34m\u001b[0m\u001b[0;34m\u001b[0m\u001b[0;34m\u001b[0m\u001b[0m\n\u001b[0;32m----> 2\u001b[0;31m \u001b[0mmodel\u001b[0m \u001b[0;34m=\u001b[0m \u001b[0mSentenceTransformer\u001b[0m\u001b[0;34m(\u001b[0m\u001b[0;34m'distiluse-base-multilingual-cased'\u001b[0m\u001b[0;34m)\u001b[0m\u001b[0;34m\u001b[0m\u001b[0;34m\u001b[0m\u001b[0m\n\u001b[0m",
      "\u001b[0;32m~/anaconda3/envs/torch/lib/python3.7/site-packages/sentence_transformers/SentenceTransformer.py\u001b[0m in \u001b[0;36m__init__\u001b[0;34m(self, model_name_or_path, modules, device)\u001b[0m\n\u001b[1;32m     89\u001b[0m \u001b[0;34m\u001b[0m\u001b[0m\n\u001b[1;32m     90\u001b[0m         \u001b[0mself\u001b[0m\u001b[0;34m.\u001b[0m\u001b[0mdevice\u001b[0m \u001b[0;34m=\u001b[0m \u001b[0mtorch\u001b[0m\u001b[0;34m.\u001b[0m\u001b[0mdevice\u001b[0m\u001b[0;34m(\u001b[0m\u001b[0mdevice\u001b[0m\u001b[0;34m)\u001b[0m\u001b[0;34m\u001b[0m\u001b[0;34m\u001b[0m\u001b[0m\n\u001b[0;32m---> 91\u001b[0;31m         \u001b[0mself\u001b[0m\u001b[0;34m.\u001b[0m\u001b[0mto\u001b[0m\u001b[0;34m(\u001b[0m\u001b[0mdevice\u001b[0m\u001b[0;34m)\u001b[0m\u001b[0;34m\u001b[0m\u001b[0;34m\u001b[0m\u001b[0m\n\u001b[0m\u001b[1;32m     92\u001b[0m \u001b[0;34m\u001b[0m\u001b[0m\n\u001b[1;32m     93\u001b[0m     \u001b[0;32mdef\u001b[0m \u001b[0mencode\u001b[0m\u001b[0;34m(\u001b[0m\u001b[0mself\u001b[0m\u001b[0;34m,\u001b[0m \u001b[0msentences\u001b[0m\u001b[0;34m:\u001b[0m \u001b[0mList\u001b[0m\u001b[0;34m[\u001b[0m\u001b[0mstr\u001b[0m\u001b[0;34m]\u001b[0m\u001b[0;34m,\u001b[0m \u001b[0mbatch_size\u001b[0m\u001b[0;34m:\u001b[0m \u001b[0mint\u001b[0m \u001b[0;34m=\u001b[0m \u001b[0;36m8\u001b[0m\u001b[0;34m,\u001b[0m \u001b[0mshow_progress_bar\u001b[0m\u001b[0;34m:\u001b[0m \u001b[0mbool\u001b[0m \u001b[0;34m=\u001b[0m \u001b[0;32mNone\u001b[0m\u001b[0;34m,\u001b[0m \u001b[0moutput_value\u001b[0m\u001b[0;34m:\u001b[0m \u001b[0mstr\u001b[0m \u001b[0;34m=\u001b[0m \u001b[0;34m'sentence_embedding'\u001b[0m\u001b[0;34m,\u001b[0m \u001b[0mconvert_to_numpy\u001b[0m\u001b[0;34m:\u001b[0m \u001b[0mbool\u001b[0m \u001b[0;34m=\u001b[0m \u001b[0;32mTrue\u001b[0m\u001b[0;34m)\u001b[0m \u001b[0;34m->\u001b[0m \u001b[0mList\u001b[0m\u001b[0;34m[\u001b[0m\u001b[0mndarray\u001b[0m\u001b[0;34m]\u001b[0m\u001b[0;34m:\u001b[0m\u001b[0;34m\u001b[0m\u001b[0;34m\u001b[0m\u001b[0m\n",
      "\u001b[0;32m~/anaconda3/envs/torch/lib/python3.7/site-packages/torch/nn/modules/module.py\u001b[0m in \u001b[0;36mto\u001b[0;34m(self, *args, **kwargs)\u001b[0m\n\u001b[1;32m    441\u001b[0m             \u001b[0;32mreturn\u001b[0m \u001b[0mt\u001b[0m\u001b[0;34m.\u001b[0m\u001b[0mto\u001b[0m\u001b[0;34m(\u001b[0m\u001b[0mdevice\u001b[0m\u001b[0;34m,\u001b[0m \u001b[0mdtype\u001b[0m \u001b[0;32mif\u001b[0m \u001b[0mt\u001b[0m\u001b[0;34m.\u001b[0m\u001b[0mis_floating_point\u001b[0m\u001b[0;34m(\u001b[0m\u001b[0;34m)\u001b[0m \u001b[0;32melse\u001b[0m \u001b[0;32mNone\u001b[0m\u001b[0;34m,\u001b[0m \u001b[0mnon_blocking\u001b[0m\u001b[0;34m)\u001b[0m\u001b[0;34m\u001b[0m\u001b[0;34m\u001b[0m\u001b[0m\n\u001b[1;32m    442\u001b[0m \u001b[0;34m\u001b[0m\u001b[0m\n\u001b[0;32m--> 443\u001b[0;31m         \u001b[0;32mreturn\u001b[0m \u001b[0mself\u001b[0m\u001b[0;34m.\u001b[0m\u001b[0m_apply\u001b[0m\u001b[0;34m(\u001b[0m\u001b[0mconvert\u001b[0m\u001b[0;34m)\u001b[0m\u001b[0;34m\u001b[0m\u001b[0;34m\u001b[0m\u001b[0m\n\u001b[0m\u001b[1;32m    444\u001b[0m \u001b[0;34m\u001b[0m\u001b[0m\n\u001b[1;32m    445\u001b[0m     \u001b[0;32mdef\u001b[0m \u001b[0mregister_backward_hook\u001b[0m\u001b[0;34m(\u001b[0m\u001b[0mself\u001b[0m\u001b[0;34m,\u001b[0m \u001b[0mhook\u001b[0m\u001b[0;34m)\u001b[0m\u001b[0;34m:\u001b[0m\u001b[0;34m\u001b[0m\u001b[0;34m\u001b[0m\u001b[0m\n",
      "\u001b[0;32m~/anaconda3/envs/torch/lib/python3.7/site-packages/torch/nn/modules/module.py\u001b[0m in \u001b[0;36m_apply\u001b[0;34m(self, fn)\u001b[0m\n\u001b[1;32m    201\u001b[0m     \u001b[0;32mdef\u001b[0m \u001b[0m_apply\u001b[0m\u001b[0;34m(\u001b[0m\u001b[0mself\u001b[0m\u001b[0;34m,\u001b[0m \u001b[0mfn\u001b[0m\u001b[0;34m)\u001b[0m\u001b[0;34m:\u001b[0m\u001b[0;34m\u001b[0m\u001b[0;34m\u001b[0m\u001b[0m\n\u001b[1;32m    202\u001b[0m         \u001b[0;32mfor\u001b[0m \u001b[0mmodule\u001b[0m \u001b[0;32min\u001b[0m \u001b[0mself\u001b[0m\u001b[0;34m.\u001b[0m\u001b[0mchildren\u001b[0m\u001b[0;34m(\u001b[0m\u001b[0;34m)\u001b[0m\u001b[0;34m:\u001b[0m\u001b[0;34m\u001b[0m\u001b[0;34m\u001b[0m\u001b[0m\n\u001b[0;32m--> 203\u001b[0;31m             \u001b[0mmodule\u001b[0m\u001b[0;34m.\u001b[0m\u001b[0m_apply\u001b[0m\u001b[0;34m(\u001b[0m\u001b[0mfn\u001b[0m\u001b[0;34m)\u001b[0m\u001b[0;34m\u001b[0m\u001b[0;34m\u001b[0m\u001b[0m\n\u001b[0m\u001b[1;32m    204\u001b[0m \u001b[0;34m\u001b[0m\u001b[0m\n\u001b[1;32m    205\u001b[0m         \u001b[0;32mdef\u001b[0m \u001b[0mcompute_should_use_set_data\u001b[0m\u001b[0;34m(\u001b[0m\u001b[0mtensor\u001b[0m\u001b[0;34m,\u001b[0m \u001b[0mtensor_applied\u001b[0m\u001b[0;34m)\u001b[0m\u001b[0;34m:\u001b[0m\u001b[0;34m\u001b[0m\u001b[0;34m\u001b[0m\u001b[0m\n",
      "\u001b[0;32m~/anaconda3/envs/torch/lib/python3.7/site-packages/torch/nn/modules/module.py\u001b[0m in \u001b[0;36m_apply\u001b[0;34m(self, fn)\u001b[0m\n\u001b[1;32m    201\u001b[0m     \u001b[0;32mdef\u001b[0m \u001b[0m_apply\u001b[0m\u001b[0;34m(\u001b[0m\u001b[0mself\u001b[0m\u001b[0;34m,\u001b[0m \u001b[0mfn\u001b[0m\u001b[0;34m)\u001b[0m\u001b[0;34m:\u001b[0m\u001b[0;34m\u001b[0m\u001b[0;34m\u001b[0m\u001b[0m\n\u001b[1;32m    202\u001b[0m         \u001b[0;32mfor\u001b[0m \u001b[0mmodule\u001b[0m \u001b[0;32min\u001b[0m \u001b[0mself\u001b[0m\u001b[0;34m.\u001b[0m\u001b[0mchildren\u001b[0m\u001b[0;34m(\u001b[0m\u001b[0;34m)\u001b[0m\u001b[0;34m:\u001b[0m\u001b[0;34m\u001b[0m\u001b[0;34m\u001b[0m\u001b[0m\n\u001b[0;32m--> 203\u001b[0;31m             \u001b[0mmodule\u001b[0m\u001b[0;34m.\u001b[0m\u001b[0m_apply\u001b[0m\u001b[0;34m(\u001b[0m\u001b[0mfn\u001b[0m\u001b[0;34m)\u001b[0m\u001b[0;34m\u001b[0m\u001b[0;34m\u001b[0m\u001b[0m\n\u001b[0m\u001b[1;32m    204\u001b[0m \u001b[0;34m\u001b[0m\u001b[0m\n\u001b[1;32m    205\u001b[0m         \u001b[0;32mdef\u001b[0m \u001b[0mcompute_should_use_set_data\u001b[0m\u001b[0;34m(\u001b[0m\u001b[0mtensor\u001b[0m\u001b[0;34m,\u001b[0m \u001b[0mtensor_applied\u001b[0m\u001b[0;34m)\u001b[0m\u001b[0;34m:\u001b[0m\u001b[0;34m\u001b[0m\u001b[0;34m\u001b[0m\u001b[0m\n",
      "\u001b[0;32m~/anaconda3/envs/torch/lib/python3.7/site-packages/torch/nn/modules/module.py\u001b[0m in \u001b[0;36m_apply\u001b[0;34m(self, fn)\u001b[0m\n\u001b[1;32m    201\u001b[0m     \u001b[0;32mdef\u001b[0m \u001b[0m_apply\u001b[0m\u001b[0;34m(\u001b[0m\u001b[0mself\u001b[0m\u001b[0;34m,\u001b[0m \u001b[0mfn\u001b[0m\u001b[0;34m)\u001b[0m\u001b[0;34m:\u001b[0m\u001b[0;34m\u001b[0m\u001b[0;34m\u001b[0m\u001b[0m\n\u001b[1;32m    202\u001b[0m         \u001b[0;32mfor\u001b[0m \u001b[0mmodule\u001b[0m \u001b[0;32min\u001b[0m \u001b[0mself\u001b[0m\u001b[0;34m.\u001b[0m\u001b[0mchildren\u001b[0m\u001b[0;34m(\u001b[0m\u001b[0;34m)\u001b[0m\u001b[0;34m:\u001b[0m\u001b[0;34m\u001b[0m\u001b[0;34m\u001b[0m\u001b[0m\n\u001b[0;32m--> 203\u001b[0;31m             \u001b[0mmodule\u001b[0m\u001b[0;34m.\u001b[0m\u001b[0m_apply\u001b[0m\u001b[0;34m(\u001b[0m\u001b[0mfn\u001b[0m\u001b[0;34m)\u001b[0m\u001b[0;34m\u001b[0m\u001b[0;34m\u001b[0m\u001b[0m\n\u001b[0m\u001b[1;32m    204\u001b[0m \u001b[0;34m\u001b[0m\u001b[0m\n\u001b[1;32m    205\u001b[0m         \u001b[0;32mdef\u001b[0m \u001b[0mcompute_should_use_set_data\u001b[0m\u001b[0;34m(\u001b[0m\u001b[0mtensor\u001b[0m\u001b[0;34m,\u001b[0m \u001b[0mtensor_applied\u001b[0m\u001b[0;34m)\u001b[0m\u001b[0;34m:\u001b[0m\u001b[0;34m\u001b[0m\u001b[0;34m\u001b[0m\u001b[0m\n",
      "\u001b[0;32m~/anaconda3/envs/torch/lib/python3.7/site-packages/torch/nn/modules/module.py\u001b[0m in \u001b[0;36m_apply\u001b[0;34m(self, fn)\u001b[0m\n\u001b[1;32m    201\u001b[0m     \u001b[0;32mdef\u001b[0m \u001b[0m_apply\u001b[0m\u001b[0;34m(\u001b[0m\u001b[0mself\u001b[0m\u001b[0;34m,\u001b[0m \u001b[0mfn\u001b[0m\u001b[0;34m)\u001b[0m\u001b[0;34m:\u001b[0m\u001b[0;34m\u001b[0m\u001b[0;34m\u001b[0m\u001b[0m\n\u001b[1;32m    202\u001b[0m         \u001b[0;32mfor\u001b[0m \u001b[0mmodule\u001b[0m \u001b[0;32min\u001b[0m \u001b[0mself\u001b[0m\u001b[0;34m.\u001b[0m\u001b[0mchildren\u001b[0m\u001b[0;34m(\u001b[0m\u001b[0;34m)\u001b[0m\u001b[0;34m:\u001b[0m\u001b[0;34m\u001b[0m\u001b[0;34m\u001b[0m\u001b[0m\n\u001b[0;32m--> 203\u001b[0;31m             \u001b[0mmodule\u001b[0m\u001b[0;34m.\u001b[0m\u001b[0m_apply\u001b[0m\u001b[0;34m(\u001b[0m\u001b[0mfn\u001b[0m\u001b[0;34m)\u001b[0m\u001b[0;34m\u001b[0m\u001b[0;34m\u001b[0m\u001b[0m\n\u001b[0m\u001b[1;32m    204\u001b[0m \u001b[0;34m\u001b[0m\u001b[0m\n\u001b[1;32m    205\u001b[0m         \u001b[0;32mdef\u001b[0m \u001b[0mcompute_should_use_set_data\u001b[0m\u001b[0;34m(\u001b[0m\u001b[0mtensor\u001b[0m\u001b[0;34m,\u001b[0m \u001b[0mtensor_applied\u001b[0m\u001b[0;34m)\u001b[0m\u001b[0;34m:\u001b[0m\u001b[0;34m\u001b[0m\u001b[0;34m\u001b[0m\u001b[0m\n",
      "\u001b[0;32m~/anaconda3/envs/torch/lib/python3.7/site-packages/torch/nn/modules/module.py\u001b[0m in \u001b[0;36m_apply\u001b[0;34m(self, fn)\u001b[0m\n\u001b[1;32m    223\u001b[0m                 \u001b[0;31m# `with torch.no_grad():`\u001b[0m\u001b[0;34m\u001b[0m\u001b[0;34m\u001b[0m\u001b[0;34m\u001b[0m\u001b[0m\n\u001b[1;32m    224\u001b[0m                 \u001b[0;32mwith\u001b[0m \u001b[0mtorch\u001b[0m\u001b[0;34m.\u001b[0m\u001b[0mno_grad\u001b[0m\u001b[0;34m(\u001b[0m\u001b[0;34m)\u001b[0m\u001b[0;34m:\u001b[0m\u001b[0;34m\u001b[0m\u001b[0;34m\u001b[0m\u001b[0m\n\u001b[0;32m--> 225\u001b[0;31m                     \u001b[0mparam_applied\u001b[0m \u001b[0;34m=\u001b[0m \u001b[0mfn\u001b[0m\u001b[0;34m(\u001b[0m\u001b[0mparam\u001b[0m\u001b[0;34m)\u001b[0m\u001b[0;34m\u001b[0m\u001b[0;34m\u001b[0m\u001b[0m\n\u001b[0m\u001b[1;32m    226\u001b[0m                 \u001b[0mshould_use_set_data\u001b[0m \u001b[0;34m=\u001b[0m \u001b[0mcompute_should_use_set_data\u001b[0m\u001b[0;34m(\u001b[0m\u001b[0mparam\u001b[0m\u001b[0;34m,\u001b[0m \u001b[0mparam_applied\u001b[0m\u001b[0;34m)\u001b[0m\u001b[0;34m\u001b[0m\u001b[0;34m\u001b[0m\u001b[0m\n\u001b[1;32m    227\u001b[0m                 \u001b[0;32mif\u001b[0m \u001b[0mshould_use_set_data\u001b[0m\u001b[0;34m:\u001b[0m\u001b[0;34m\u001b[0m\u001b[0;34m\u001b[0m\u001b[0m\n",
      "\u001b[0;32m~/anaconda3/envs/torch/lib/python3.7/site-packages/torch/nn/modules/module.py\u001b[0m in \u001b[0;36mconvert\u001b[0;34m(t)\u001b[0m\n\u001b[1;32m    439\u001b[0m             \u001b[0;32mif\u001b[0m \u001b[0mconvert_to_format\u001b[0m \u001b[0;32mis\u001b[0m \u001b[0;32mnot\u001b[0m \u001b[0;32mNone\u001b[0m \u001b[0;32mand\u001b[0m \u001b[0mt\u001b[0m\u001b[0;34m.\u001b[0m\u001b[0mdim\u001b[0m\u001b[0;34m(\u001b[0m\u001b[0;34m)\u001b[0m \u001b[0;34m==\u001b[0m \u001b[0;36m4\u001b[0m\u001b[0;34m:\u001b[0m\u001b[0;34m\u001b[0m\u001b[0;34m\u001b[0m\u001b[0m\n\u001b[1;32m    440\u001b[0m                 \u001b[0;32mreturn\u001b[0m \u001b[0mt\u001b[0m\u001b[0;34m.\u001b[0m\u001b[0mto\u001b[0m\u001b[0;34m(\u001b[0m\u001b[0mdevice\u001b[0m\u001b[0;34m,\u001b[0m \u001b[0mdtype\u001b[0m \u001b[0;32mif\u001b[0m \u001b[0mt\u001b[0m\u001b[0;34m.\u001b[0m\u001b[0mis_floating_point\u001b[0m\u001b[0;34m(\u001b[0m\u001b[0;34m)\u001b[0m \u001b[0;32melse\u001b[0m \u001b[0;32mNone\u001b[0m\u001b[0;34m,\u001b[0m \u001b[0mnon_blocking\u001b[0m\u001b[0;34m,\u001b[0m \u001b[0mmemory_format\u001b[0m\u001b[0;34m=\u001b[0m\u001b[0mconvert_to_format\u001b[0m\u001b[0;34m)\u001b[0m\u001b[0;34m\u001b[0m\u001b[0;34m\u001b[0m\u001b[0m\n\u001b[0;32m--> 441\u001b[0;31m             \u001b[0;32mreturn\u001b[0m \u001b[0mt\u001b[0m\u001b[0;34m.\u001b[0m\u001b[0mto\u001b[0m\u001b[0;34m(\u001b[0m\u001b[0mdevice\u001b[0m\u001b[0;34m,\u001b[0m \u001b[0mdtype\u001b[0m \u001b[0;32mif\u001b[0m \u001b[0mt\u001b[0m\u001b[0;34m.\u001b[0m\u001b[0mis_floating_point\u001b[0m\u001b[0;34m(\u001b[0m\u001b[0;34m)\u001b[0m \u001b[0;32melse\u001b[0m \u001b[0;32mNone\u001b[0m\u001b[0;34m,\u001b[0m \u001b[0mnon_blocking\u001b[0m\u001b[0;34m)\u001b[0m\u001b[0;34m\u001b[0m\u001b[0;34m\u001b[0m\u001b[0m\n\u001b[0m\u001b[1;32m    442\u001b[0m \u001b[0;34m\u001b[0m\u001b[0m\n\u001b[1;32m    443\u001b[0m         \u001b[0;32mreturn\u001b[0m \u001b[0mself\u001b[0m\u001b[0;34m.\u001b[0m\u001b[0m_apply\u001b[0m\u001b[0;34m(\u001b[0m\u001b[0mconvert\u001b[0m\u001b[0;34m)\u001b[0m\u001b[0;34m\u001b[0m\u001b[0;34m\u001b[0m\u001b[0m\n",
      "\u001b[0;31mRuntimeError\u001b[0m: CUDA out of memory. Tried to allocate 352.00 MiB (GPU 0; 1.96 GiB total capacity; 0 bytes already allocated; 272.75 MiB free; 0 bytes reserved in total by PyTorch)"
     ]
    }
   ],
   "source": [
    "#bert - multilingual\n",
    "model = SentenceTransformer('distiluse-base-multilingual-cased')"
   ]
  },
  {
   "cell_type": "code",
   "execution_count": null,
   "metadata": {},
   "outputs": [],
   "source": [
    "X_train = model.encode(X_train_original,show_progress_bar=True,batch_size=512)"
   ]
  },
  {
   "cell_type": "code",
   "execution_count": 13,
   "metadata": {},
   "outputs": [],
   "source": [
    "X_train = np.array(X_train)"
   ]
  },
  {
   "cell_type": "code",
   "execution_count": 6,
   "metadata": {},
   "outputs": [
    {
     "name": "stderr",
     "output_type": "stream",
     "text": [
      "Batches: 100%|██████████| 10/10 [03:49<00:00, 22.99s/it]\n"
     ]
    }
   ],
   "source": [
    "X_dev = model.encode(X_dev_original,show_progress_bar=True,batch_size=512)"
   ]
  },
  {
   "cell_type": "code",
   "execution_count": 14,
   "metadata": {},
   "outputs": [],
   "source": [
    "X_dev = np.array(X_dev)"
   ]
  },
  {
   "cell_type": "code",
   "execution_count": 15,
   "metadata": {},
   "outputs": [],
   "source": [
    "model = Sequential()\n",
    "# model.add(LSTM(10, dropout=0.2, recurrent_dropout=0.2,return_sequences=True))\n",
    "# model.add(LSTM(10, dropout=0.2, recurrent_dropout=0.2,return_sequences=False))\n",
    "model.add(Dense(512, activation='relu'))\n",
    "model.add(Dense(21, activation='softmax'))\n",
    "model.compile(loss='categorical_crossentropy', optimizer='adam', metrics=['accuracy'])"
   ]
  },
  {
   "cell_type": "code",
   "execution_count": 16,
   "metadata": {},
   "outputs": [
    {
     "name": "stdout",
     "output_type": "stream",
     "text": [
      "Train on 21000 samples, validate on 4957 samples\n",
      "Epoch 1/200\n",
      "21000/21000 [==============================] - 3s 128us/step - loss: 2.5095 - accuracy: 0.2609 - val_loss: 2.4338 - val_accuracy: 0.2895\n",
      "Epoch 2/200\n",
      "21000/21000 [==============================] - 2s 108us/step - loss: 2.3233 - accuracy: 0.3080 - val_loss: 2.4278 - val_accuracy: 0.2921\n",
      "Epoch 3/200\n",
      "21000/21000 [==============================] - 2s 108us/step - loss: 2.2321 - accuracy: 0.3331 - val_loss: 2.4180 - val_accuracy: 0.2988\n",
      "Epoch 4/200\n",
      "21000/21000 [==============================] - 2s 109us/step - loss: 2.1537 - accuracy: 0.3539 - val_loss: 2.4292 - val_accuracy: 0.2986\n",
      "Epoch 5/200\n",
      "21000/21000 [==============================] - 2s 111us/step - loss: 2.0788 - accuracy: 0.3732 - val_loss: 2.4447 - val_accuracy: 0.3036\n",
      "Epoch 6/200\n",
      "21000/21000 [==============================] - 2s 113us/step - loss: 2.0018 - accuracy: 0.3940 - val_loss: 2.4725 - val_accuracy: 0.2925\n",
      "Epoch 7/200\n",
      "21000/21000 [==============================] - 2s 111us/step - loss: 1.9242 - accuracy: 0.4162 - val_loss: 2.4917 - val_accuracy: 0.2935\n",
      "Epoch 8/200\n",
      "21000/21000 [==============================] - 2s 113us/step - loss: 1.8453 - accuracy: 0.4420 - val_loss: 2.5125 - val_accuracy: 0.2903\n",
      "Epoch 9/200\n",
      "21000/21000 [==============================] - 2s 116us/step - loss: 1.7628 - accuracy: 0.4683 - val_loss: 2.5479 - val_accuracy: 0.2863\n",
      "Epoch 10/200\n",
      "21000/21000 [==============================] - 2s 116us/step - loss: 1.6797 - accuracy: 0.4909 - val_loss: 2.5841 - val_accuracy: 0.2863\n",
      "Epoch 11/200\n",
      "21000/21000 [==============================] - 2s 113us/step - loss: 1.5962 - accuracy: 0.5228 - val_loss: 2.6247 - val_accuracy: 0.2877\n",
      "Epoch 12/200\n",
      "21000/21000 [==============================] - 2s 112us/step - loss: 1.5120 - accuracy: 0.5500 - val_loss: 2.6233 - val_accuracy: 0.2836\n",
      "Epoch 13/200\n",
      "21000/21000 [==============================] - 2s 113us/step - loss: 1.4248 - accuracy: 0.5851 - val_loss: 2.6660 - val_accuracy: 0.2784\n"
     ]
    }
   ],
   "source": [
    "history = model.fit(X_train,y_train,epochs=200,validation_data=(X_dev,y_dev),\n",
    "                   callbacks=[callbacks.EarlyStopping(monitor='val_loss', min_delta=0, patience=10, verbose=0, mode='auto', baseline=None, restore_best_weights=True)])"
   ]
  },
  {
   "cell_type": "code",
   "execution_count": 17,
   "metadata": {},
   "outputs": [
    {
     "data": {
      "image/png": "[encoded data removed]",
      "text/plain": [
       "<Figure size 432x288 with 1 Axes>"
      ]
     },
     "metadata": {
      "needs_background": "light"
     },
     "output_type": "display_data"
    }
   ],
   "source": [
    "plt.plot(history.history['val_accuracy'])\n",
    "plt.plot(history.history['accuracy'])\n",
    "plt.show()"
   ]
  },
  {
   "cell_type": "code",
   "execution_count": 5,
   "metadata": {
    "scrolled": true
   },
   "outputs": [
    {
     "name": "stderr",
     "output_type": "stream",
     "text": [
      "/home/nikamanth/anaconda3/envs/torch/lib/python3.7/site-packages/ipykernel_launcher.py:10: TqdmDeprecationWarning: This function will be removed in tqdm==5.0.0\n",
      "Please use `tqdm.notebook.tqdm` instead of `tqdm.tqdm_notebook`\n",
      "  # Remove the CWD from sys.path while we load stuff.\n"
     ]
    },
    {
     "data": {
      "application/vnd.jupyter.widget-view+json": {
       "model_id": "7eda11a2e08e4a7ba0d9f9fc3a6b9c3c",
       "version_major": 2,
       "version_minor": 0
      },
      "text/plain": [
       "HBox(children=(FloatProgress(value=0.0, max=21000.0), HTML(value='')))"
      ]
     },
     "metadata": {},
     "output_type": "display_data"
    },
    {
     "name": "stdout",
     "output_type": "stream",
     "text": [
      "\n"
     ]
    },
    {
     "data": {
      "application/vnd.jupyter.widget-view+json": {
       "model_id": "a589c6cc80a147288d586136d1ad170d",
       "version_major": 2,
       "version_minor": 0
      },
      "text/plain": [
       "HBox(children=(FloatProgress(value=0.0, max=4957.0), HTML(value='')))"
      ]
     },
     "metadata": {},
     "output_type": "display_data"
    },
    {
     "name": "stdout",
     "output_type": "stream",
     "text": [
      "\n"
     ]
    }
   ],
   "source": [
    "#fasttext-arabic\n",
    "from tqdm import tqdm_notebook\n",
    "from nltk import word_tokenize\n",
    "from pymagnitude import *\n",
    "\n",
    "\n",
    "glove = Magnitude(\"../downloads/fasttext-arabic/fasttext-arabic.magnitude\")\n",
    "def avg_glove(x):\n",
    "    vectors = []\n",
    "    for title in tqdm_notebook(x):\n",
    "        vectors.append(np.average(glove.query(word_tokenize(title)), axis = 0))\n",
    "    return np.array(vectors)\n",
    "\n",
    "X_train = avg_glove(X_train_original)\n",
    "y_train = y_train_original\n",
    "X_dev = avg_glove(X_dev_original)\n",
    "y_dev = y_dev_original"
   ]
  },
  {
   "cell_type": "code",
   "execution_count": 6,
   "metadata": {},
   "outputs": [],
   "source": [
    "labels = {}\n",
    "uni = y_train_original.unique()\n",
    "for i in range(len(uni)):\n",
    "    labels[uni[i]] = i\n",
    "\n",
    "y_train_index = [labels[i] for i in y_train_original]\n",
    "y_dev_index = [labels[i] for i in y_dev_original]\n",
    "\n",
    "y_train = to_categorical(y_train_index, num_classes=21)\n",
    "y_dev = to_categorical(y_dev_index, num_classes=21)"
   ]
  },
  {
   "cell_type": "code",
   "execution_count": 26,
   "metadata": {
    "scrolled": true
   },
   "outputs": [
    {
     "name": "stdout",
     "output_type": "stream",
     "text": [
      "Train on 21000 samples, validate on 4957 samples\n",
      "Epoch 1/30\n",
      "21000/21000 [==============================] - 2s 89us/step - loss: 2.3516 - accuracy: 0.3145 - f1_m: 0.1779 - val_loss: 2.2077 - val_accuracy: 0.3708 - val_f1_m: 0.2308\n",
      "Epoch 2/30\n",
      "21000/21000 [==============================] - 2s 76us/step - loss: 2.1271 - accuracy: 0.3747 - f1_m: 0.2563 - val_loss: 2.1480 - val_accuracy: 0.3881 - val_f1_m: 0.2685\n",
      "Epoch 3/30\n",
      "21000/21000 [==============================] - 2s 76us/step - loss: 2.0499 - accuracy: 0.3961 - f1_m: 0.2758 - val_loss: 2.1504 - val_accuracy: 0.3928 - val_f1_m: 0.2868\n",
      "Epoch 4/30\n",
      "21000/21000 [==============================] - 2s 83us/step - loss: 1.9965 - accuracy: 0.4083 - f1_m: 0.2915 - val_loss: 2.1337 - val_accuracy: 0.3964 - val_f1_m: 0.2844\n",
      "Epoch 5/30\n",
      "21000/21000 [==============================] - 2s 91us/step - loss: 1.9537 - accuracy: 0.4232 - f1_m: 0.3057 - val_loss: 2.1368 - val_accuracy: 0.3982 - val_f1_m: 0.2975\n",
      "Epoch 6/30\n",
      "21000/21000 [==============================] - 2s 81us/step - loss: 1.9151 - accuracy: 0.4329 - f1_m: 0.3199 - val_loss: 2.1230 - val_accuracy: 0.4045 - val_f1_m: 0.3043\n",
      "Epoch 7/30\n",
      "21000/21000 [==============================] - 2s 74us/step - loss: 1.8791 - accuracy: 0.4411 - f1_m: 0.3301 - val_loss: 2.1408 - val_accuracy: 0.4033 - val_f1_m: 0.3046\n",
      "Epoch 8/30\n",
      "21000/21000 [==============================] - 2s 73us/step - loss: 1.8463 - accuracy: 0.4511 - f1_m: 0.3427 - val_loss: 2.1404 - val_accuracy: 0.4013 - val_f1_m: 0.3259\n",
      "Epoch 9/30\n",
      "21000/21000 [==============================] - 2s 81us/step - loss: 1.8135 - accuracy: 0.4587 - f1_m: 0.3500 - val_loss: 2.1569 - val_accuracy: 0.3950 - val_f1_m: 0.3090\n",
      "Epoch 10/30\n",
      "21000/21000 [==============================] - 2s 81us/step - loss: 1.7818 - accuracy: 0.4686 - f1_m: 0.3595 - val_loss: 2.1438 - val_accuracy: 0.4000 - val_f1_m: 0.3174\n",
      "Epoch 11/30\n",
      "21000/21000 [==============================] - 2s 80us/step - loss: 1.7509 - accuracy: 0.4761 - f1_m: 0.3705 - val_loss: 2.1614 - val_accuracy: 0.3986 - val_f1_m: 0.3153\n",
      "Epoch 12/30\n",
      "21000/21000 [==============================] - 1s 71us/step - loss: 1.7206 - accuracy: 0.4841 - f1_m: 0.3777 - val_loss: 2.1695 - val_accuracy: 0.4019 - val_f1_m: 0.3269\n",
      "Epoch 13/30\n",
      "21000/21000 [==============================] - 2s 74us/step - loss: 1.6900 - accuracy: 0.4921 - f1_m: 0.3879 - val_loss: 2.1926 - val_accuracy: 0.3976 - val_f1_m: 0.3264\n",
      "Epoch 14/30\n",
      "21000/21000 [==============================] - 2s 85us/step - loss: 1.6608 - accuracy: 0.5016 - f1_m: 0.3998 - val_loss: 2.1883 - val_accuracy: 0.4039 - val_f1_m: 0.3442\n",
      "Epoch 15/30\n",
      "21000/21000 [==============================] - 2s 79us/step - loss: 1.6304 - accuracy: 0.5110 - f1_m: 0.4069 - val_loss: 2.2160 - val_accuracy: 0.3916 - val_f1_m: 0.3340\n",
      "Epoch 16/30\n",
      "21000/21000 [==============================] - 2s 108us/step - loss: 1.5993 - accuracy: 0.5203 - f1_m: 0.4164 - val_loss: 2.2183 - val_accuracy: 0.3928 - val_f1_m: 0.3192\n"
     ]
    }
   ],
   "source": [
    "model = Sequential()\n",
    "# model.add(LSTM(100, dropout=0.2, recurrent_dropout=0.2,return_sequences=True))\n",
    "# model.add(LSTM(100, dropout=0.2, recurrent_dropout=0.2,return_sequences=False))\n",
    "model.add(Dense(512, activation='relu'))\n",
    "model.add(Dense(21, activation='softmax'))\n",
    "model.compile(loss='categorical_crossentropy', optimizer='adam', metrics=['accuracy',f1_m])\n",
    "history = model.fit(X_train,y_train,epochs=30,validation_data=(X_dev,y_dev),\n",
    "                   callbacks=[callbacks.EarlyStopping(monitor='val_loss', min_delta=0, patience=10, verbose=0, mode='auto', baseline=None, restore_best_weights=True)])"
   ]
  },
  {
   "cell_type": "code",
   "execution_count": 8,
   "metadata": {},
   "outputs": [
    {
     "data": {
      "image/png": "[encoded data removed]",
      "text/plain": [
       "<Figure size 432x288 with 1 Axes>"
      ]
     },
     "metadata": {
      "needs_background": "light"
     },
     "output_type": "display_data"
    }
   ],
   "source": [
    "plt.plot(history.history['val_accuracy'])\n",
    "plt.plot(history.history['accuracy'])\n",
    "plt.show()"
   ]
  },
  {
   "cell_type": "code",
   "execution_count": 14,
   "metadata": {},
   "outputs": [],
   "source": [
    "pred = model.predict_classes(X_dev)"
   ]
  },
  {
   "cell_type": "code",
   "execution_count": 17,
   "metadata": {},
   "outputs": [],
   "source": [
    "reverse_label_map = {value : key for (key, value) in labels.items()}"
   ]
  },
  {
   "cell_type": "code",
   "execution_count": 20,
   "metadata": {},
   "outputs": [],
   "source": [
    "li = [reverse_label_map[i] for i in pred]"
   ]
  },
  {
   "cell_type": "code",
   "execution_count": 21,
   "metadata": {},
   "outputs": [],
   "source": [
    "with open('../tsv/keras_res.txt','wt') as file:\n",
    "    for i in li:\n",
    "        file.write(i+'\\n')"
   ]
  },
  {
   "cell_type": "code",
   "execution_count": 23,
   "metadata": {},
   "outputs": [
    {
     "data": {
      "text/plain": [
       "0          Iraq\n",
       "1         Egypt\n",
       "2       Algeria\n",
       "3         Yemen\n",
       "4         Egypt\n",
       "         ...   \n",
       "4952    Tunisia\n",
       "4953      Egypt\n",
       "4954      Egypt\n",
       "4955      Egypt\n",
       "4956      Qatar\n",
       "Name: #3 country_label, Length: 4957, dtype: object"
      ]
     },
     "execution_count": 23,
     "metadata": {},
     "output_type": "execute_result"
    }
   ],
   "source": [
    "dev_df['#3 country_label']"
   ]
  },
  {
   "cell_type": "code",
   "execution_count": null,
   "metadata": {},
   "outputs": [],
   "source": []
  }
 ],
 "metadata": {
  "kernelspec": {
   "display_name": "Python 3",
   "language": "python",
   "name": "python3"
  },
  "language_info": {
   "codemirror_mode": {
    "name": "ipython",
    "version": 3
   },
   "file_extension": ".py",
   "mimetype": "text/x-python",
   "name": "python",
   "nbconvert_exporter": "python",
   "pygments_lexer": "ipython3",
   "version": "3.7.7"
  }
 },
 "nbformat": 4,
 "nbformat_minor": 4
}
